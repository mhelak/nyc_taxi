{
 "cells": [
  {
   "cell_type": "markdown",
   "metadata": {},
   "source": [
    "## Modeling - Random Forest Regressor"
   ]
  },
  {
   "cell_type": "markdown",
   "metadata": {},
   "source": [
    "The goal of this notebook is to try out the Random Forest Regressor to see if it can be a valuable predictor of taxi trip duration based on the features that we engineered."
   ]
  },
  {
   "cell_type": "code",
   "execution_count": 35,
   "metadata": {},
   "outputs": [],
   "source": [
    "import pandas as pd \n",
    "import numpy as np\n",
    "from sklearn.metrics import r2_score"
   ]
  },
  {
   "cell_type": "code",
   "execution_count": 5,
   "metadata": {},
   "outputs": [],
   "source": [
    "df = pd.read_csv('data/final_data_1.csv')"
   ]
  },
  {
   "cell_type": "code",
   "execution_count": 6,
   "metadata": {},
   "outputs": [],
   "source": [
    "#kernel keeps dying , trying with 10% of dataset\n",
    "df = df.sample(frac=0.1, replace=True, random_state=1)"
   ]
  },
  {
   "cell_type": "code",
   "execution_count": 7,
   "metadata": {},
   "outputs": [],
   "source": [
    "#df = df.drop(['Unnamed: 0', 'X'], axis =1 )"
   ]
  },
  {
   "cell_type": "code",
   "execution_count": 8,
   "metadata": {},
   "outputs": [
    {
     "data": {
      "text/plain": [
       "Index(['Unnamed: 0', 'X', 'id', 'vendor_id', 'pickup_datetime',\n",
       "       'dropoff_datetime', 'passenger_count', 'pickup_longitude',\n",
       "       'pickup_latitude', 'dropoff_longitude', 'dropoff_latitude',\n",
       "       'store_and_fwd_flag', 'trip_duration', 'distance_km', 'speed_km_sec',\n",
       "       'day', 'month', 'hour', 'geometry', 'pickup_date', 'pickup_hour',\n",
       "       'dropoff_date', 'dropoff_hour', 'pickup_dayofmonth',\n",
       "       'pickup_dateinnumbers', 'pickup_monthinnumbers', 'average_temperature',\n",
       "       'precipitation', 'snowfall', 'snowdepth', 'kmeanscluster',\n",
       "       'neighborhood'],\n",
       "      dtype='object')"
      ]
     },
     "execution_count": 8,
     "metadata": {},
     "output_type": "execute_result"
    }
   ],
   "source": [
    "df.columns"
   ]
  },
  {
   "cell_type": "code",
   "execution_count": 9,
   "metadata": {},
   "outputs": [],
   "source": [
    "#excluding pickup and dropoff date as that doesn't seem to be relevant, also excluding passenger count\n",
    "dfu = df[['distance_km', 'speed_km_sec', 'hour', 'average_temperature', 'precipitation', 'snowfall',\n",
    "         'snowdepth', 'kmeanscluster', 'neighborhood', 'trip_duration']]"
   ]
  },
  {
   "cell_type": "code",
   "execution_count": 10,
   "metadata": {
    "scrolled": true
   },
   "outputs": [
    {
     "data": {
      "text/html": [
       "<div>\n",
       "<style scoped>\n",
       "    .dataframe tbody tr th:only-of-type {\n",
       "        vertical-align: middle;\n",
       "    }\n",
       "\n",
       "    .dataframe tbody tr th {\n",
       "        vertical-align: top;\n",
       "    }\n",
       "\n",
       "    .dataframe thead th {\n",
       "        text-align: right;\n",
       "    }\n",
       "</style>\n",
       "<table border=\"1\" class=\"dataframe\">\n",
       "  <thead>\n",
       "    <tr style=\"text-align: right;\">\n",
       "      <th></th>\n",
       "      <th>distance_km</th>\n",
       "      <th>speed_km_sec</th>\n",
       "      <th>hour</th>\n",
       "      <th>average_temperature</th>\n",
       "      <th>precipitation</th>\n",
       "      <th>snowfall</th>\n",
       "      <th>snowdepth</th>\n",
       "      <th>kmeanscluster</th>\n",
       "      <th>neighborhood</th>\n",
       "      <th>trip_duration</th>\n",
       "    </tr>\n",
       "  </thead>\n",
       "  <tbody>\n",
       "    <tr>\n",
       "      <th>128037</th>\n",
       "      <td>1.293588</td>\n",
       "      <td>0.003839</td>\n",
       "      <td>16</td>\n",
       "      <td>62.5</td>\n",
       "      <td>0.16</td>\n",
       "      <td>0.0</td>\n",
       "      <td>0</td>\n",
       "      <td>1</td>\n",
       "      <td>Lower Manhattan</td>\n",
       "      <td>337</td>\n",
       "    </tr>\n",
       "    <tr>\n",
       "      <th>491755</th>\n",
       "      <td>1.295411</td>\n",
       "      <td>0.003511</td>\n",
       "      <td>23</td>\n",
       "      <td>37.0</td>\n",
       "      <td>0.47</td>\n",
       "      <td>T</td>\n",
       "      <td>0</td>\n",
       "      <td>1</td>\n",
       "      <td>Lower Manhattan</td>\n",
       "      <td>369</td>\n",
       "    </tr>\n",
       "    <tr>\n",
       "      <th>470924</th>\n",
       "      <td>3.449869</td>\n",
       "      <td>0.004417</td>\n",
       "      <td>21</td>\n",
       "      <td>46.5</td>\n",
       "      <td>0.00</td>\n",
       "      <td>0.0</td>\n",
       "      <td>0</td>\n",
       "      <td>1</td>\n",
       "      <td>Lower Manhattan</td>\n",
       "      <td>781</td>\n",
       "    </tr>\n",
       "    <tr>\n",
       "      <th>491263</th>\n",
       "      <td>1.058453</td>\n",
       "      <td>0.004485</td>\n",
       "      <td>10</td>\n",
       "      <td>33.5</td>\n",
       "      <td>0.05</td>\n",
       "      <td>0.1</td>\n",
       "      <td>0</td>\n",
       "      <td>1</td>\n",
       "      <td>Lower Manhattan</td>\n",
       "      <td>236</td>\n",
       "    </tr>\n",
       "    <tr>\n",
       "      <th>836489</th>\n",
       "      <td>1.573762</td>\n",
       "      <td>0.004396</td>\n",
       "      <td>19</td>\n",
       "      <td>43.0</td>\n",
       "      <td>0.00</td>\n",
       "      <td>0.0</td>\n",
       "      <td>17</td>\n",
       "      <td>0</td>\n",
       "      <td>Lower Manhattan</td>\n",
       "      <td>358</td>\n",
       "    </tr>\n",
       "  </tbody>\n",
       "</table>\n",
       "</div>"
      ],
      "text/plain": [
       "        distance_km  speed_km_sec  hour  average_temperature precipitation  \\\n",
       "128037     1.293588      0.003839    16                 62.5          0.16   \n",
       "491755     1.295411      0.003511    23                 37.0          0.47   \n",
       "470924     3.449869      0.004417    21                 46.5          0.00   \n",
       "491263     1.058453      0.004485    10                 33.5          0.05   \n",
       "836489     1.573762      0.004396    19                 43.0          0.00   \n",
       "\n",
       "       snowfall snowdepth  kmeanscluster     neighborhood  trip_duration  \n",
       "128037      0.0         0              1  Lower Manhattan            337  \n",
       "491755        T         0              1  Lower Manhattan            369  \n",
       "470924      0.0         0              1  Lower Manhattan            781  \n",
       "491263      0.1         0              1  Lower Manhattan            236  \n",
       "836489      0.0        17              0  Lower Manhattan            358  "
      ]
     },
     "execution_count": 10,
     "metadata": {},
     "output_type": "execute_result"
    }
   ],
   "source": [
    "dfu.head()"
   ]
  },
  {
   "cell_type": "code",
   "execution_count": 11,
   "metadata": {},
   "outputs": [
    {
     "data": {
      "text/html": [
       "<div>\n",
       "<style scoped>\n",
       "    .dataframe tbody tr th:only-of-type {\n",
       "        vertical-align: middle;\n",
       "    }\n",
       "\n",
       "    .dataframe tbody tr th {\n",
       "        vertical-align: top;\n",
       "    }\n",
       "\n",
       "    .dataframe thead th {\n",
       "        text-align: right;\n",
       "    }\n",
       "</style>\n",
       "<table border=\"1\" class=\"dataframe\">\n",
       "  <thead>\n",
       "    <tr style=\"text-align: right;\">\n",
       "      <th></th>\n",
       "      <th>distance_km</th>\n",
       "      <th>speed_km_sec</th>\n",
       "      <th>hour</th>\n",
       "      <th>average_temperature</th>\n",
       "      <th>precipitation</th>\n",
       "      <th>snowfall</th>\n",
       "      <th>snowdepth</th>\n",
       "      <th>kmeanscluster</th>\n",
       "      <th>neighborhood</th>\n",
       "      <th>trip_duration</th>\n",
       "    </tr>\n",
       "  </thead>\n",
       "  <tbody>\n",
       "    <tr>\n",
       "      <th>128037</th>\n",
       "      <td>1.293588</td>\n",
       "      <td>0.003839</td>\n",
       "      <td>16</td>\n",
       "      <td>62.5</td>\n",
       "      <td>0.16</td>\n",
       "      <td>0.0</td>\n",
       "      <td>0</td>\n",
       "      <td>1</td>\n",
       "      <td>Lower Manhattan</td>\n",
       "      <td>337</td>\n",
       "    </tr>\n",
       "    <tr>\n",
       "      <th>491755</th>\n",
       "      <td>1.295411</td>\n",
       "      <td>0.003511</td>\n",
       "      <td>23</td>\n",
       "      <td>37.0</td>\n",
       "      <td>0.47</td>\n",
       "      <td>T</td>\n",
       "      <td>0</td>\n",
       "      <td>1</td>\n",
       "      <td>Lower Manhattan</td>\n",
       "      <td>369</td>\n",
       "    </tr>\n",
       "    <tr>\n",
       "      <th>470924</th>\n",
       "      <td>3.449869</td>\n",
       "      <td>0.004417</td>\n",
       "      <td>21</td>\n",
       "      <td>46.5</td>\n",
       "      <td>0.00</td>\n",
       "      <td>0.0</td>\n",
       "      <td>0</td>\n",
       "      <td>1</td>\n",
       "      <td>Lower Manhattan</td>\n",
       "      <td>781</td>\n",
       "    </tr>\n",
       "    <tr>\n",
       "      <th>491263</th>\n",
       "      <td>1.058453</td>\n",
       "      <td>0.004485</td>\n",
       "      <td>10</td>\n",
       "      <td>33.5</td>\n",
       "      <td>0.05</td>\n",
       "      <td>0.1</td>\n",
       "      <td>0</td>\n",
       "      <td>1</td>\n",
       "      <td>Lower Manhattan</td>\n",
       "      <td>236</td>\n",
       "    </tr>\n",
       "    <tr>\n",
       "      <th>836489</th>\n",
       "      <td>1.573762</td>\n",
       "      <td>0.004396</td>\n",
       "      <td>19</td>\n",
       "      <td>43.0</td>\n",
       "      <td>0.00</td>\n",
       "      <td>0.0</td>\n",
       "      <td>17</td>\n",
       "      <td>0</td>\n",
       "      <td>Lower Manhattan</td>\n",
       "      <td>358</td>\n",
       "    </tr>\n",
       "  </tbody>\n",
       "</table>\n",
       "</div>"
      ],
      "text/plain": [
       "        distance_km  speed_km_sec  hour  average_temperature precipitation  \\\n",
       "128037     1.293588      0.003839    16                 62.5          0.16   \n",
       "491755     1.295411      0.003511    23                 37.0          0.47   \n",
       "470924     3.449869      0.004417    21                 46.5          0.00   \n",
       "491263     1.058453      0.004485    10                 33.5          0.05   \n",
       "836489     1.573762      0.004396    19                 43.0          0.00   \n",
       "\n",
       "       snowfall snowdepth  kmeanscluster     neighborhood  trip_duration  \n",
       "128037      0.0         0              1  Lower Manhattan            337  \n",
       "491755        T         0              1  Lower Manhattan            369  \n",
       "470924      0.0         0              1  Lower Manhattan            781  \n",
       "491263      0.1         0              1  Lower Manhattan            236  \n",
       "836489      0.0        17              0  Lower Manhattan            358  "
      ]
     },
     "execution_count": 11,
     "metadata": {},
     "output_type": "execute_result"
    }
   ],
   "source": [
    "#engineer dummy variables for the categorical variables\n",
    "#categorical features list\n",
    "#\n",
    "dfu.head()"
   ]
  },
  {
   "cell_type": "code",
   "execution_count": 12,
   "metadata": {},
   "outputs": [],
   "source": [
    "dfd = pd.get_dummies(dfu, columns=['hour', 'kmeanscluster', 'neighborhood'])\n",
    "#dfu = dfu.drop(['hour', 'kmeanscluster', 'neighborhood'], axis=1)\n",
    "#dfa = pd.concat([dfu, dfd], axis=1)"
   ]
  },
  {
   "cell_type": "code",
   "execution_count": 13,
   "metadata": {},
   "outputs": [
    {
     "data": {
      "text/html": [
       "<div>\n",
       "<style scoped>\n",
       "    .dataframe tbody tr th:only-of-type {\n",
       "        vertical-align: middle;\n",
       "    }\n",
       "\n",
       "    .dataframe tbody tr th {\n",
       "        vertical-align: top;\n",
       "    }\n",
       "\n",
       "    .dataframe thead th {\n",
       "        text-align: right;\n",
       "    }\n",
       "</style>\n",
       "<table border=\"1\" class=\"dataframe\">\n",
       "  <thead>\n",
       "    <tr style=\"text-align: right;\">\n",
       "      <th></th>\n",
       "      <th>distance_km</th>\n",
       "      <th>speed_km_sec</th>\n",
       "      <th>average_temperature</th>\n",
       "      <th>precipitation</th>\n",
       "      <th>snowfall</th>\n",
       "      <th>snowdepth</th>\n",
       "      <th>trip_duration</th>\n",
       "      <th>hour_0</th>\n",
       "      <th>hour_1</th>\n",
       "      <th>hour_2</th>\n",
       "      <th>...</th>\n",
       "      <th>kmeanscluster_0</th>\n",
       "      <th>kmeanscluster_1</th>\n",
       "      <th>kmeanscluster_2</th>\n",
       "      <th>kmeanscluster_3</th>\n",
       "      <th>neighborhood_Brooklyn</th>\n",
       "      <th>neighborhood_Harlem</th>\n",
       "      <th>neighborhood_Hempstead</th>\n",
       "      <th>neighborhood_Lower Manhattan</th>\n",
       "      <th>neighborhood_Midtown Manhattan</th>\n",
       "      <th>neighborhood_Washington Heights</th>\n",
       "    </tr>\n",
       "  </thead>\n",
       "  <tbody>\n",
       "    <tr>\n",
       "      <th>128037</th>\n",
       "      <td>1.293588</td>\n",
       "      <td>0.003839</td>\n",
       "      <td>62.5</td>\n",
       "      <td>0.16</td>\n",
       "      <td>0.0</td>\n",
       "      <td>0</td>\n",
       "      <td>337</td>\n",
       "      <td>0</td>\n",
       "      <td>0</td>\n",
       "      <td>0</td>\n",
       "      <td>...</td>\n",
       "      <td>0</td>\n",
       "      <td>1</td>\n",
       "      <td>0</td>\n",
       "      <td>0</td>\n",
       "      <td>0</td>\n",
       "      <td>0</td>\n",
       "      <td>0</td>\n",
       "      <td>1</td>\n",
       "      <td>0</td>\n",
       "      <td>0</td>\n",
       "    </tr>\n",
       "    <tr>\n",
       "      <th>491755</th>\n",
       "      <td>1.295411</td>\n",
       "      <td>0.003511</td>\n",
       "      <td>37.0</td>\n",
       "      <td>0.47</td>\n",
       "      <td>T</td>\n",
       "      <td>0</td>\n",
       "      <td>369</td>\n",
       "      <td>0</td>\n",
       "      <td>0</td>\n",
       "      <td>0</td>\n",
       "      <td>...</td>\n",
       "      <td>0</td>\n",
       "      <td>1</td>\n",
       "      <td>0</td>\n",
       "      <td>0</td>\n",
       "      <td>0</td>\n",
       "      <td>0</td>\n",
       "      <td>0</td>\n",
       "      <td>1</td>\n",
       "      <td>0</td>\n",
       "      <td>0</td>\n",
       "    </tr>\n",
       "    <tr>\n",
       "      <th>470924</th>\n",
       "      <td>3.449869</td>\n",
       "      <td>0.004417</td>\n",
       "      <td>46.5</td>\n",
       "      <td>0.00</td>\n",
       "      <td>0.0</td>\n",
       "      <td>0</td>\n",
       "      <td>781</td>\n",
       "      <td>0</td>\n",
       "      <td>0</td>\n",
       "      <td>0</td>\n",
       "      <td>...</td>\n",
       "      <td>0</td>\n",
       "      <td>1</td>\n",
       "      <td>0</td>\n",
       "      <td>0</td>\n",
       "      <td>0</td>\n",
       "      <td>0</td>\n",
       "      <td>0</td>\n",
       "      <td>1</td>\n",
       "      <td>0</td>\n",
       "      <td>0</td>\n",
       "    </tr>\n",
       "    <tr>\n",
       "      <th>491263</th>\n",
       "      <td>1.058453</td>\n",
       "      <td>0.004485</td>\n",
       "      <td>33.5</td>\n",
       "      <td>0.05</td>\n",
       "      <td>0.1</td>\n",
       "      <td>0</td>\n",
       "      <td>236</td>\n",
       "      <td>0</td>\n",
       "      <td>0</td>\n",
       "      <td>0</td>\n",
       "      <td>...</td>\n",
       "      <td>0</td>\n",
       "      <td>1</td>\n",
       "      <td>0</td>\n",
       "      <td>0</td>\n",
       "      <td>0</td>\n",
       "      <td>0</td>\n",
       "      <td>0</td>\n",
       "      <td>1</td>\n",
       "      <td>0</td>\n",
       "      <td>0</td>\n",
       "    </tr>\n",
       "    <tr>\n",
       "      <th>836489</th>\n",
       "      <td>1.573762</td>\n",
       "      <td>0.004396</td>\n",
       "      <td>43.0</td>\n",
       "      <td>0.00</td>\n",
       "      <td>0.0</td>\n",
       "      <td>17</td>\n",
       "      <td>358</td>\n",
       "      <td>0</td>\n",
       "      <td>0</td>\n",
       "      <td>0</td>\n",
       "      <td>...</td>\n",
       "      <td>1</td>\n",
       "      <td>0</td>\n",
       "      <td>0</td>\n",
       "      <td>0</td>\n",
       "      <td>0</td>\n",
       "      <td>0</td>\n",
       "      <td>0</td>\n",
       "      <td>1</td>\n",
       "      <td>0</td>\n",
       "      <td>0</td>\n",
       "    </tr>\n",
       "  </tbody>\n",
       "</table>\n",
       "<p>5 rows × 41 columns</p>\n",
       "</div>"
      ],
      "text/plain": [
       "        distance_km  speed_km_sec  average_temperature precipitation snowfall  \\\n",
       "128037     1.293588      0.003839                 62.5          0.16      0.0   \n",
       "491755     1.295411      0.003511                 37.0          0.47        T   \n",
       "470924     3.449869      0.004417                 46.5          0.00      0.0   \n",
       "491263     1.058453      0.004485                 33.5          0.05      0.1   \n",
       "836489     1.573762      0.004396                 43.0          0.00      0.0   \n",
       "\n",
       "       snowdepth  trip_duration  hour_0  hour_1  hour_2  ...  kmeanscluster_0  \\\n",
       "128037         0            337       0       0       0  ...                0   \n",
       "491755         0            369       0       0       0  ...                0   \n",
       "470924         0            781       0       0       0  ...                0   \n",
       "491263         0            236       0       0       0  ...                0   \n",
       "836489        17            358       0       0       0  ...                1   \n",
       "\n",
       "        kmeanscluster_1  kmeanscluster_2  kmeanscluster_3  \\\n",
       "128037                1                0                0   \n",
       "491755                1                0                0   \n",
       "470924                1                0                0   \n",
       "491263                1                0                0   \n",
       "836489                0                0                0   \n",
       "\n",
       "        neighborhood_Brooklyn  neighborhood_Harlem  neighborhood_Hempstead  \\\n",
       "128037                      0                    0                       0   \n",
       "491755                      0                    0                       0   \n",
       "470924                      0                    0                       0   \n",
       "491263                      0                    0                       0   \n",
       "836489                      0                    0                       0   \n",
       "\n",
       "        neighborhood_Lower Manhattan  neighborhood_Midtown Manhattan  \\\n",
       "128037                             1                               0   \n",
       "491755                             1                               0   \n",
       "470924                             1                               0   \n",
       "491263                             1                               0   \n",
       "836489                             1                               0   \n",
       "\n",
       "        neighborhood_Washington Heights  \n",
       "128037                                0  \n",
       "491755                                0  \n",
       "470924                                0  \n",
       "491263                                0  \n",
       "836489                                0  \n",
       "\n",
       "[5 rows x 41 columns]"
      ]
     },
     "execution_count": 13,
     "metadata": {},
     "output_type": "execute_result"
    }
   ],
   "source": [
    "dfd.head()"
   ]
  },
  {
   "cell_type": "code",
   "execution_count": 14,
   "metadata": {},
   "outputs": [],
   "source": [
    "#hot fix for snowfall, precipitation, snowdepth\n",
    "#we assumed that trace precipitation, snowdepth and snowfall was equivalent to 0\n",
    "dfd.loc[df['precipitation'] == 'T'] = 0.00\n",
    "dfd.loc[df['snowfall'] == 'T'] = 0.00\n",
    "dfd.loc[df['snowdepth'] == 'T'] = 0.00"
   ]
  },
  {
   "cell_type": "code",
   "execution_count": 15,
   "metadata": {},
   "outputs": [
    {
     "data": {
      "text/plain": [
       "array(['0.16', 0.0, '0.00', '0.05', '0.02', '1.65', '0.04', '0.01',\n",
       "       '0.12', '1.80', '0.18', '0.09', '0.03', '0.24', '1.01', '0.45',\n",
       "       '0.06', '0.25', '0.22', '0.73', '0.14', '0.54', '0.61', '0.44',\n",
       "       '0.53', '1.22', '0.20', '0.38', '0.91', '0.40', '0.29', '2.31'],\n",
       "      dtype=object)"
      ]
     },
     "execution_count": 15,
     "metadata": {},
     "output_type": "execute_result"
    }
   ],
   "source": [
    "dfd['precipitation'].unique()"
   ]
  },
  {
   "cell_type": "code",
   "execution_count": 16,
   "metadata": {},
   "outputs": [],
   "source": [
    "dfd[['precipitation', 'snowfall', 'snowdepth']] = dfd[['precipitation', 'snowfall', 'snowdepth']].apply(pd.to_numeric)"
   ]
  },
  {
   "cell_type": "code",
   "execution_count": 17,
   "metadata": {},
   "outputs": [
    {
     "name": "stdout",
     "output_type": "stream",
     "text": [
      "<class 'pandas.core.frame.DataFrame'>\n",
      "Int64Index: 108745 entries, 128037 to 413158\n",
      "Data columns (total 41 columns):\n",
      " #   Column                           Non-Null Count   Dtype  \n",
      "---  ------                           --------------   -----  \n",
      " 0   distance_km                      108745 non-null  float64\n",
      " 1   speed_km_sec                     108745 non-null  float64\n",
      " 2   average_temperature              108745 non-null  float64\n",
      " 3   precipitation                    108745 non-null  float64\n",
      " 4   snowfall                         108745 non-null  float64\n",
      " 5   snowdepth                        108745 non-null  float64\n",
      " 6   trip_duration                    108745 non-null  float64\n",
      " 7   hour_0                           108745 non-null  float64\n",
      " 8   hour_1                           108745 non-null  float64\n",
      " 9   hour_2                           108745 non-null  float64\n",
      " 10  hour_3                           108745 non-null  float64\n",
      " 11  hour_4                           108745 non-null  float64\n",
      " 12  hour_5                           108745 non-null  float64\n",
      " 13  hour_6                           108745 non-null  float64\n",
      " 14  hour_7                           108745 non-null  float64\n",
      " 15  hour_8                           108745 non-null  float64\n",
      " 16  hour_9                           108745 non-null  float64\n",
      " 17  hour_10                          108745 non-null  float64\n",
      " 18  hour_11                          108745 non-null  float64\n",
      " 19  hour_12                          108745 non-null  float64\n",
      " 20  hour_13                          108745 non-null  float64\n",
      " 21  hour_14                          108745 non-null  float64\n",
      " 22  hour_15                          108745 non-null  float64\n",
      " 23  hour_16                          108745 non-null  float64\n",
      " 24  hour_17                          108745 non-null  float64\n",
      " 25  hour_18                          108745 non-null  float64\n",
      " 26  hour_19                          108745 non-null  float64\n",
      " 27  hour_20                          108745 non-null  float64\n",
      " 28  hour_21                          108745 non-null  float64\n",
      " 29  hour_22                          108745 non-null  float64\n",
      " 30  hour_23                          108745 non-null  float64\n",
      " 31  kmeanscluster_0                  108745 non-null  float64\n",
      " 32  kmeanscluster_1                  108745 non-null  float64\n",
      " 33  kmeanscluster_2                  108745 non-null  float64\n",
      " 34  kmeanscluster_3                  108745 non-null  float64\n",
      " 35  neighborhood_Brooklyn            108745 non-null  float64\n",
      " 36  neighborhood_Harlem              108745 non-null  float64\n",
      " 37  neighborhood_Hempstead           108745 non-null  float64\n",
      " 38  neighborhood_Lower Manhattan     108745 non-null  float64\n",
      " 39  neighborhood_Midtown Manhattan   108745 non-null  float64\n",
      " 40  neighborhood_Washington Heights  108745 non-null  float64\n",
      "dtypes: float64(41)\n",
      "memory usage: 34.8 MB\n"
     ]
    }
   ],
   "source": [
    "dfd.info()"
   ]
  },
  {
   "cell_type": "code",
   "execution_count": 18,
   "metadata": {},
   "outputs": [],
   "source": [
    "#dfa['snowfall'].info()"
   ]
  },
  {
   "cell_type": "code",
   "execution_count": 19,
   "metadata": {},
   "outputs": [],
   "source": [
    "#now that we have converted all of the categorical columns to dummy variables, we can move on with modeling"
   ]
  },
  {
   "cell_type": "code",
   "execution_count": 20,
   "metadata": {},
   "outputs": [],
   "source": [
    "#load the test data\n"
   ]
  },
  {
   "cell_type": "code",
   "execution_count": 21,
   "metadata": {},
   "outputs": [],
   "source": [
    "df_test = pd.read_csv('data/test.csv')"
   ]
  },
  {
   "cell_type": "code",
   "execution_count": 22,
   "metadata": {},
   "outputs": [
    {
     "data": {
      "text/html": [
       "<div>\n",
       "<style scoped>\n",
       "    .dataframe tbody tr th:only-of-type {\n",
       "        vertical-align: middle;\n",
       "    }\n",
       "\n",
       "    .dataframe tbody tr th {\n",
       "        vertical-align: top;\n",
       "    }\n",
       "\n",
       "    .dataframe thead th {\n",
       "        text-align: right;\n",
       "    }\n",
       "</style>\n",
       "<table border=\"1\" class=\"dataframe\">\n",
       "  <thead>\n",
       "    <tr style=\"text-align: right;\">\n",
       "      <th></th>\n",
       "      <th>id</th>\n",
       "      <th>vendor_id</th>\n",
       "      <th>pickup_datetime</th>\n",
       "      <th>passenger_count</th>\n",
       "      <th>pickup_longitude</th>\n",
       "      <th>pickup_latitude</th>\n",
       "      <th>dropoff_longitude</th>\n",
       "      <th>dropoff_latitude</th>\n",
       "      <th>store_and_fwd_flag</th>\n",
       "    </tr>\n",
       "  </thead>\n",
       "  <tbody>\n",
       "    <tr>\n",
       "      <th>0</th>\n",
       "      <td>id3004672</td>\n",
       "      <td>1</td>\n",
       "      <td>2016-06-30 23:59:58</td>\n",
       "      <td>1</td>\n",
       "      <td>-73.988129</td>\n",
       "      <td>40.732029</td>\n",
       "      <td>-73.990173</td>\n",
       "      <td>40.756680</td>\n",
       "      <td>N</td>\n",
       "    </tr>\n",
       "    <tr>\n",
       "      <th>1</th>\n",
       "      <td>id3505355</td>\n",
       "      <td>1</td>\n",
       "      <td>2016-06-30 23:59:53</td>\n",
       "      <td>1</td>\n",
       "      <td>-73.964203</td>\n",
       "      <td>40.679993</td>\n",
       "      <td>-73.959808</td>\n",
       "      <td>40.655403</td>\n",
       "      <td>N</td>\n",
       "    </tr>\n",
       "    <tr>\n",
       "      <th>2</th>\n",
       "      <td>id1217141</td>\n",
       "      <td>1</td>\n",
       "      <td>2016-06-30 23:59:47</td>\n",
       "      <td>1</td>\n",
       "      <td>-73.997437</td>\n",
       "      <td>40.737583</td>\n",
       "      <td>-73.986160</td>\n",
       "      <td>40.729523</td>\n",
       "      <td>N</td>\n",
       "    </tr>\n",
       "    <tr>\n",
       "      <th>3</th>\n",
       "      <td>id2150126</td>\n",
       "      <td>2</td>\n",
       "      <td>2016-06-30 23:59:41</td>\n",
       "      <td>1</td>\n",
       "      <td>-73.956070</td>\n",
       "      <td>40.771900</td>\n",
       "      <td>-73.986427</td>\n",
       "      <td>40.730469</td>\n",
       "      <td>N</td>\n",
       "    </tr>\n",
       "    <tr>\n",
       "      <th>4</th>\n",
       "      <td>id1598245</td>\n",
       "      <td>1</td>\n",
       "      <td>2016-06-30 23:59:33</td>\n",
       "      <td>1</td>\n",
       "      <td>-73.970215</td>\n",
       "      <td>40.761475</td>\n",
       "      <td>-73.961510</td>\n",
       "      <td>40.755890</td>\n",
       "      <td>N</td>\n",
       "    </tr>\n",
       "  </tbody>\n",
       "</table>\n",
       "</div>"
      ],
      "text/plain": [
       "          id  vendor_id      pickup_datetime  passenger_count  \\\n",
       "0  id3004672          1  2016-06-30 23:59:58                1   \n",
       "1  id3505355          1  2016-06-30 23:59:53                1   \n",
       "2  id1217141          1  2016-06-30 23:59:47                1   \n",
       "3  id2150126          2  2016-06-30 23:59:41                1   \n",
       "4  id1598245          1  2016-06-30 23:59:33                1   \n",
       "\n",
       "   pickup_longitude  pickup_latitude  dropoff_longitude  dropoff_latitude  \\\n",
       "0        -73.988129        40.732029         -73.990173         40.756680   \n",
       "1        -73.964203        40.679993         -73.959808         40.655403   \n",
       "2        -73.997437        40.737583         -73.986160         40.729523   \n",
       "3        -73.956070        40.771900         -73.986427         40.730469   \n",
       "4        -73.970215        40.761475         -73.961510         40.755890   \n",
       "\n",
       "  store_and_fwd_flag  \n",
       "0                  N  \n",
       "1                  N  \n",
       "2                  N  \n",
       "3                  N  \n",
       "4                  N  "
      ]
     },
     "execution_count": 22,
     "metadata": {},
     "output_type": "execute_result"
    }
   ],
   "source": [
    "#need to engineer the same exact steps for the test data ??\n",
    "df_test.head()"
   ]
  },
  {
   "cell_type": "markdown",
   "metadata": {},
   "source": [
    "## Scaling"
   ]
  },
  {
   "cell_type": "code",
   "execution_count": 23,
   "metadata": {},
   "outputs": [],
   "source": [
    "from sklearn.model_selection import train_test_split\n",
    "\n",
    "#Split into x and y \n",
    "X = np.array(dfd.drop(['trip_duration'], axis =1))\n",
    "y = np.array(dfd[['trip_duration']])\n",
    "\n",
    "X_train, X_test, y_train, y_test = train_test_split(X, y, test_size=0.25, random_state = 123)"
   ]
  },
  {
   "cell_type": "code",
   "execution_count": 24,
   "metadata": {},
   "outputs": [],
   "source": [
    "from sklearn import preprocessing\n",
    "import numpy as np\n",
    "# build scaler based on training data and apply it to test data to then also scale the test data\n",
    "scaler = preprocessing.StandardScaler().fit(X_train)\n",
    "X_train_scaled=scaler.transform(X_train)\n",
    "X_test_scaled=scaler.transform(X_test)"
   ]
  },
  {
   "cell_type": "code",
   "execution_count": 25,
   "metadata": {},
   "outputs": [
    {
     "name": "stdout",
     "output_type": "stream",
     "text": [
      "(81558, 40)\n",
      "(27187, 40)\n"
     ]
    }
   ],
   "source": [
    "print((X_train_scaled.shape))\n",
    "print((X_test_scaled.shape))"
   ]
  },
  {
   "cell_type": "markdown",
   "metadata": {},
   "source": [
    "## Modeling"
   ]
  },
  {
   "cell_type": "markdown",
   "metadata": {},
   "source": [
    "We wanted to continue investigating feature selection methods"
   ]
  },
  {
   "cell_type": "code",
   "execution_count": 26,
   "metadata": {},
   "outputs": [
    {
     "name": "stderr",
     "output_type": "stream",
     "text": [
      "/opt/anaconda3/lib/python3.7/site-packages/ipykernel_launcher.py:4: DataConversionWarning: A column-vector y was passed when a 1d array was expected. Please change the shape of y to (n_samples,), for example using ravel().\n",
      "  after removing the cwd from sys.path.\n"
     ]
    },
    {
     "data": {
      "text/plain": [
       "RandomForestRegressor(bootstrap=True, criterion='mse', max_depth=None,\n",
       "                      max_features='auto', max_leaf_nodes=None,\n",
       "                      min_impurity_decrease=0.0, min_impurity_split=None,\n",
       "                      min_samples_leaf=1, min_samples_split=2,\n",
       "                      min_weight_fraction_leaf=0.0, n_estimators=10,\n",
       "                      n_jobs=None, oob_score=False, random_state=42, verbose=0,\n",
       "                      warm_start=False)"
      ]
     },
     "execution_count": 26,
     "metadata": {},
     "output_type": "execute_result"
    }
   ],
   "source": [
    "from sklearn.ensemble import RandomForestRegressor\n",
    "rf = RandomForestRegressor(n_estimators = 10, random_state = 42)\n",
    "\n",
    "rf.fit(X_train_scaled, y_train)"
   ]
  },
  {
   "cell_type": "code",
   "execution_count": 38,
   "metadata": {},
   "outputs": [
    {
     "name": "stderr",
     "output_type": "stream",
     "text": [
      "/opt/anaconda3/lib/python3.7/site-packages/ipykernel_launcher.py:1: DataConversionWarning: A column-vector y was passed when a 1d array was expected. Please change the shape of y to (n_samples,), for example using ravel().\n",
      "  \"\"\"Entry point for launching an IPython kernel.\n"
     ]
    }
   ],
   "source": [
    "model = rf.fit(X_train_scaled, y_train)\n",
    "y_pred = model.predict(X_test_scaled)"
   ]
  },
  {
   "cell_type": "code",
   "execution_count": 40,
   "metadata": {},
   "outputs": [
    {
     "name": "stdout",
     "output_type": "stream",
     "text": [
      "Mean Absolute Error: 351.78\n",
      "Mean Squared Error:  17.0\n",
      "R squared:  1.0\n"
     ]
    }
   ],
   "source": [
    "predictions = rf.predict(X_test_scaled)\n",
    "# Calculate the absolute errors\n",
    "errors = abs(predictions - y_test)\n",
    "# Print out the mean absolute error (mae)\n",
    "print('Mean Absolute Error:', round(np.mean(errors), 2))\n",
    "print('Mean Squared Error: ', round(np.mean(np.sqrt(errors))))\n",
    "print('R squared: ', round(r2_score(y_pred, y_test)))"
   ]
  },
  {
   "cell_type": "code",
   "execution_count": 41,
   "metadata": {},
   "outputs": [],
   "source": [
    "feature_list = list(dfd.columns)"
   ]
  },
  {
   "cell_type": "code",
   "execution_count": 42,
   "metadata": {},
   "outputs": [
    {
     "name": "stdout",
     "output_type": "stream",
     "text": [
      "Variable: distance_km Importance: 0.77\n",
      "Variable: speed_km_sec Importance: 0.23\n",
      "Variable: average_temperature Importance: 0.0\n",
      "Variable: precipitation Importance: 0.0\n",
      "Variable: snowfall   Importance: 0.0\n",
      "Variable: snowdepth  Importance: 0.0\n",
      "Variable: trip_duration Importance: 0.0\n",
      "Variable: hour_0     Importance: 0.0\n",
      "Variable: hour_1     Importance: 0.0\n",
      "Variable: hour_2     Importance: 0.0\n",
      "Variable: hour_3     Importance: 0.0\n",
      "Variable: hour_4     Importance: 0.0\n",
      "Variable: hour_5     Importance: 0.0\n",
      "Variable: hour_6     Importance: 0.0\n",
      "Variable: hour_7     Importance: 0.0\n",
      "Variable: hour_8     Importance: 0.0\n",
      "Variable: hour_9     Importance: 0.0\n",
      "Variable: hour_10    Importance: 0.0\n",
      "Variable: hour_11    Importance: 0.0\n",
      "Variable: hour_12    Importance: 0.0\n",
      "Variable: hour_13    Importance: 0.0\n",
      "Variable: hour_14    Importance: 0.0\n",
      "Variable: hour_15    Importance: 0.0\n",
      "Variable: hour_16    Importance: 0.0\n",
      "Variable: hour_17    Importance: 0.0\n",
      "Variable: hour_18    Importance: 0.0\n",
      "Variable: hour_19    Importance: 0.0\n",
      "Variable: hour_20    Importance: 0.0\n",
      "Variable: hour_21    Importance: 0.0\n",
      "Variable: hour_22    Importance: 0.0\n",
      "Variable: hour_23    Importance: 0.0\n",
      "Variable: kmeanscluster_0 Importance: 0.0\n",
      "Variable: kmeanscluster_1 Importance: 0.0\n",
      "Variable: kmeanscluster_2 Importance: 0.0\n",
      "Variable: kmeanscluster_3 Importance: 0.0\n",
      "Variable: neighborhood_Brooklyn Importance: 0.0\n",
      "Variable: neighborhood_Harlem Importance: 0.0\n",
      "Variable: neighborhood_Hempstead Importance: 0.0\n",
      "Variable: neighborhood_Lower Manhattan Importance: 0.0\n",
      "Variable: neighborhood_Midtown Manhattan Importance: 0.0\n"
     ]
    }
   ],
   "source": [
    "# Get numerical feature importances\n",
    "importances = list(rf.feature_importances_)\n",
    "# List of tuples with variable and importance\n",
    "feature_importances = [(feature, round(importance, 2)) for feature, importance in zip(feature_list, importances)]\n",
    "# Sort the feature importances by most important first\n",
    "feature_importances = sorted(feature_importances, key = lambda x: x[1], reverse = True)\n",
    "# Print out the feature and importances \n",
    "[print('Variable: {:10} Importance: {}'.format(*pair)) for pair in feature_importances];"
   ]
  }
 ],
 "metadata": {
  "kernelspec": {
   "display_name": "Python 3",
   "language": "python",
   "name": "python3"
  },
  "language_info": {
   "codemirror_mode": {
    "name": "ipython",
    "version": 3
   },
   "file_extension": ".py",
   "mimetype": "text/x-python",
   "name": "python",
   "nbconvert_exporter": "python",
   "pygments_lexer": "ipython3",
   "version": "3.7.4"
  }
 },
 "nbformat": 4,
 "nbformat_minor": 2
}
