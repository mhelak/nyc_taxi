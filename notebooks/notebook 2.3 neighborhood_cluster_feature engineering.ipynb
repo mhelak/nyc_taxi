{
 "cells": [
  {
   "cell_type": "markdown",
   "metadata": {},
   "source": [
    "## Neighborhood Feature Engineering and KMeans Clustering"
   ]
  },
  {
   "cell_type": "code",
   "execution_count": 158,
   "metadata": {},
   "outputs": [],
   "source": [
    "import pandas as pd\n",
    "import matplotlib.pyplot as plt"
   ]
  },
  {
   "cell_type": "code",
   "execution_count": 159,
   "metadata": {},
   "outputs": [],
   "source": [
    "df = pd.read_csv(\"data/trimmed_new.csv\", index_col = None)"
   ]
  },
  {
   "cell_type": "code",
   "execution_count": 160,
   "metadata": {},
   "outputs": [],
   "source": [
    "dfn = pd.read_csv(\"data/neighborhoods.csv\", index_col = None)"
   ]
  },
  {
   "cell_type": "code",
   "execution_count": 161,
   "metadata": {},
   "outputs": [],
   "source": [
    "#let's assume that we are only concerned with the pickup, not the dropoff \n",
    "#some blogs suggest that we drop dropoff - can discuss this later\n"
   ]
  },
  {
   "cell_type": "code",
   "execution_count": 162,
   "metadata": {},
   "outputs": [],
   "source": [
    "#df = df.drop('Unnamed: 0', axis =1 )"
   ]
  },
  {
   "cell_type": "code",
   "execution_count": 163,
   "metadata": {},
   "outputs": [],
   "source": [
    "dfc = df[['pickup_longitude', 'pickup_latitude']]"
   ]
  },
  {
   "cell_type": "code",
   "execution_count": 164,
   "metadata": {},
   "outputs": [
    {
     "data": {
      "text/html": [
       "<div>\n",
       "<style scoped>\n",
       "    .dataframe tbody tr th:only-of-type {\n",
       "        vertical-align: middle;\n",
       "    }\n",
       "\n",
       "    .dataframe tbody tr th {\n",
       "        vertical-align: top;\n",
       "    }\n",
       "\n",
       "    .dataframe thead th {\n",
       "        text-align: right;\n",
       "    }\n",
       "</style>\n",
       "<table border=\"1\" class=\"dataframe\">\n",
       "  <thead>\n",
       "    <tr style=\"text-align: right;\">\n",
       "      <th></th>\n",
       "      <th>pickup_longitude</th>\n",
       "      <th>pickup_latitude</th>\n",
       "    </tr>\n",
       "  </thead>\n",
       "  <tbody>\n",
       "    <tr>\n",
       "      <th>0</th>\n",
       "      <td>-73.982155</td>\n",
       "      <td>40.767937</td>\n",
       "    </tr>\n",
       "    <tr>\n",
       "      <th>1</th>\n",
       "      <td>-73.980415</td>\n",
       "      <td>40.738564</td>\n",
       "    </tr>\n",
       "    <tr>\n",
       "      <th>2</th>\n",
       "      <td>-74.010040</td>\n",
       "      <td>40.719971</td>\n",
       "    </tr>\n",
       "    <tr>\n",
       "      <th>3</th>\n",
       "      <td>-73.973053</td>\n",
       "      <td>40.793209</td>\n",
       "    </tr>\n",
       "    <tr>\n",
       "      <th>4</th>\n",
       "      <td>-73.982857</td>\n",
       "      <td>40.742195</td>\n",
       "    </tr>\n",
       "  </tbody>\n",
       "</table>\n",
       "</div>"
      ],
      "text/plain": [
       "   pickup_longitude  pickup_latitude\n",
       "0        -73.982155        40.767937\n",
       "1        -73.980415        40.738564\n",
       "2        -74.010040        40.719971\n",
       "3        -73.973053        40.793209\n",
       "4        -73.982857        40.742195"
      ]
     },
     "execution_count": 164,
     "metadata": {},
     "output_type": "execute_result"
    }
   ],
   "source": [
    "dfc.head()"
   ]
  },
  {
   "cell_type": "code",
   "execution_count": 165,
   "metadata": {},
   "outputs": [],
   "source": [
    "#coords = df.to_numpy(columns=['pickup_longitude', 'pickup_latitude'])\n",
    "coords = dfc.to_numpy()\n",
    "\n",
    "#db = DBSCAN(eps=eps, min_samples=ms, algorithm='ball_tree', metric='haversine').fit(np.radians(coords))"
   ]
  },
  {
   "cell_type": "code",
   "execution_count": 166,
   "metadata": {},
   "outputs": [
    {
     "data": {
      "text/plain": [
       "Text(0, 0.5, 'Sum of Squares')"
      ]
     },
     "execution_count": 166,
     "metadata": {},
     "output_type": "execute_result"
    },
    {
     "data": {
      "image/png": "[encoded data removed]",
      "text/plain": [
       "<Figure size 432x288 with 1 Axes>"
      ]
     },
     "metadata": {
      "needs_background": "light"
     },
     "output_type": "display_data"
    }
   ],
   "source": [
    "import sklearn.cluster\n",
    "import numpy as np\n",
    "\n",
    "# Make an empty list\n",
    "ss = []\n",
    "\n",
    "# Make an empty dictionary called assignments \n",
    "assignments = {}\n",
    "\n",
    "# Cast your table 'pivoted' as a matrix with as_matrix(), and store it in a variable X \n",
    "X = coords\n",
    "\n",
    "# Make a variable called Krange, and assign it a list of range(2, 11)\n",
    "Krange = list(range(2,11))\n",
    "\n",
    "# We now want to iterate through this list to construct a plot showing SS for each K. Name the iterator variable K \n",
    "for K in Krange:\n",
    "    # Make a variable called model, and assign it the result of calling sklearn.cluster.KMeans, with n_clusters = K \n",
    "    model = sklearn.cluster.KMeans(n_clusters=K, random_state = 42)\n",
    "    assigned_cluster = model.fit_predict(X)\n",
    "    centers = model.cluster_centers_\n",
    "    ss.append(model.inertia_)\n",
    "    assignments[str(K)] = assigned_cluster\n",
    "    \n",
    "# Call plot() on plt with parameters Krange and ss\n",
    "plt.plot(Krange, ss)\n",
    "\n",
    "# Let's label the plot \n",
    "plt.xlabel(\"$K$\")\n",
    "plt.ylabel(\"Sum of Squares\")"
   ]
  },
  {
   "cell_type": "code",
   "execution_count": 167,
   "metadata": {},
   "outputs": [
    {
     "data": {
      "text/plain": [
       "Text(0, 0.5, 'Count')"
      ]
     },
     "execution_count": 167,
     "metadata": {},
     "output_type": "execute_result"
    },
    {
     "data": {
      "image/png": "[encoded data removed]",
      "text/plain": [
       "<Figure size 432x288 with 1 Axes>"
      ]
     },
     "metadata": {
      "needs_background": "light"
     },
     "output_type": "display_data"
    }
   ],
   "source": [
    "model = sklearn.cluster.KMeans(n_clusters=4)\n",
    "df['kmeans_cluster'] = model.fit_predict(X)\n",
    "df.kmeans_cluster.value_counts().sort_index().plot(kind='bar')\n",
    "plt.xlabel('Cluster')\n",
    "plt.ylabel('Count')"
   ]
  },
  {
   "cell_type": "code",
   "execution_count": 168,
   "metadata": {},
   "outputs": [
    {
     "data": {
      "text/html": [
       "<div>\n",
       "<style scoped>\n",
       "    .dataframe tbody tr th:only-of-type {\n",
       "        vertical-align: middle;\n",
       "    }\n",
       "\n",
       "    .dataframe tbody tr th {\n",
       "        vertical-align: top;\n",
       "    }\n",
       "\n",
       "    .dataframe thead th {\n",
       "        text-align: right;\n",
       "    }\n",
       "</style>\n",
       "<table border=\"1\" class=\"dataframe\">\n",
       "  <thead>\n",
       "    <tr style=\"text-align: right;\">\n",
       "      <th></th>\n",
       "      <th>Unnamed: 0</th>\n",
       "      <th>X</th>\n",
       "      <th>id</th>\n",
       "      <th>vendor_id</th>\n",
       "      <th>pickup_datetime</th>\n",
       "      <th>dropoff_datetime</th>\n",
       "      <th>passenger_count</th>\n",
       "      <th>pickup_longitude</th>\n",
       "      <th>pickup_latitude</th>\n",
       "      <th>dropoff_longitude</th>\n",
       "      <th>dropoff_latitude</th>\n",
       "      <th>store_and_fwd_flag</th>\n",
       "      <th>trip_duration</th>\n",
       "      <th>distance_km</th>\n",
       "      <th>speed_km_sec</th>\n",
       "      <th>day</th>\n",
       "      <th>month</th>\n",
       "      <th>hour</th>\n",
       "      <th>geometry</th>\n",
       "      <th>kmeans_cluster</th>\n",
       "    </tr>\n",
       "  </thead>\n",
       "  <tbody>\n",
       "    <tr>\n",
       "      <th>0</th>\n",
       "      <td>1</td>\n",
       "      <td>0</td>\n",
       "      <td>id2875421</td>\n",
       "      <td>2</td>\n",
       "      <td>2016-03-14 17:24:55</td>\n",
       "      <td>2016-03-14 17:32:30</td>\n",
       "      <td>1</td>\n",
       "      <td>-73.982155</td>\n",
       "      <td>40.767937</td>\n",
       "      <td>-73.964630</td>\n",
       "      <td>40.765602</td>\n",
       "      <td>N</td>\n",
       "      <td>455</td>\n",
       "      <td>1.500199</td>\n",
       "      <td>0.003297</td>\n",
       "      <td>Monday</td>\n",
       "      <td>March</td>\n",
       "      <td>17</td>\n",
       "      <td>POINT (-73.98215484619141 40.767936706543)</td>\n",
       "      <td>1</td>\n",
       "    </tr>\n",
       "    <tr>\n",
       "      <th>1</th>\n",
       "      <td>2</td>\n",
       "      <td>1</td>\n",
       "      <td>id2377394</td>\n",
       "      <td>1</td>\n",
       "      <td>2016-06-12 00:43:35</td>\n",
       "      <td>2016-06-12 00:54:38</td>\n",
       "      <td>1</td>\n",
       "      <td>-73.980415</td>\n",
       "      <td>40.738564</td>\n",
       "      <td>-73.999481</td>\n",
       "      <td>40.731152</td>\n",
       "      <td>N</td>\n",
       "      <td>663</td>\n",
       "      <td>1.807530</td>\n",
       "      <td>0.002726</td>\n",
       "      <td>Sunday</td>\n",
       "      <td>June</td>\n",
       "      <td>0</td>\n",
       "      <td>POINT (-73.9804153442383 40.73856353759771)</td>\n",
       "      <td>1</td>\n",
       "    </tr>\n",
       "    <tr>\n",
       "      <th>2</th>\n",
       "      <td>4</td>\n",
       "      <td>3</td>\n",
       "      <td>id3504673</td>\n",
       "      <td>2</td>\n",
       "      <td>2016-04-06 19:32:31</td>\n",
       "      <td>2016-04-06 19:39:40</td>\n",
       "      <td>1</td>\n",
       "      <td>-74.010040</td>\n",
       "      <td>40.719971</td>\n",
       "      <td>-74.012268</td>\n",
       "      <td>40.706718</td>\n",
       "      <td>N</td>\n",
       "      <td>429</td>\n",
       "      <td>1.487163</td>\n",
       "      <td>0.003467</td>\n",
       "      <td>Wednesday</td>\n",
       "      <td>April</td>\n",
       "      <td>19</td>\n",
       "      <td>POINT (-74.0100402832031 40.719970703125)</td>\n",
       "      <td>0</td>\n",
       "    </tr>\n",
       "    <tr>\n",
       "      <th>3</th>\n",
       "      <td>5</td>\n",
       "      <td>4</td>\n",
       "      <td>id2181028</td>\n",
       "      <td>2</td>\n",
       "      <td>2016-03-26 13:30:55</td>\n",
       "      <td>2016-03-26 13:38:10</td>\n",
       "      <td>1</td>\n",
       "      <td>-73.973053</td>\n",
       "      <td>40.793209</td>\n",
       "      <td>-73.972923</td>\n",
       "      <td>40.782520</td>\n",
       "      <td>N</td>\n",
       "      <td>435</td>\n",
       "      <td>1.189920</td>\n",
       "      <td>0.002735</td>\n",
       "      <td>Saturday</td>\n",
       "      <td>March</td>\n",
       "      <td>13</td>\n",
       "      <td>POINT (-73.9730529785156 40.7932090759277)</td>\n",
       "      <td>3</td>\n",
       "    </tr>\n",
       "    <tr>\n",
       "      <th>4</th>\n",
       "      <td>6</td>\n",
       "      <td>5</td>\n",
       "      <td>id0801584</td>\n",
       "      <td>2</td>\n",
       "      <td>2016-01-30 22:01:40</td>\n",
       "      <td>2016-01-30 22:09:03</td>\n",
       "      <td>6</td>\n",
       "      <td>-73.982857</td>\n",
       "      <td>40.742195</td>\n",
       "      <td>-73.992081</td>\n",
       "      <td>40.749184</td>\n",
       "      <td>N</td>\n",
       "      <td>443</td>\n",
       "      <td>1.100174</td>\n",
       "      <td>0.002483</td>\n",
       "      <td>Saturday</td>\n",
       "      <td>January</td>\n",
       "      <td>22</td>\n",
       "      <td>POINT (-73.9828567504883 40.7421951293945)</td>\n",
       "      <td>1</td>\n",
       "    </tr>\n",
       "  </tbody>\n",
       "</table>\n",
       "</div>"
      ],
      "text/plain": [
       "   Unnamed: 0  X         id  vendor_id      pickup_datetime  \\\n",
       "0           1  0  id2875421          2  2016-03-14 17:24:55   \n",
       "1           2  1  id2377394          1  2016-06-12 00:43:35   \n",
       "2           4  3  id3504673          2  2016-04-06 19:32:31   \n",
       "3           5  4  id2181028          2  2016-03-26 13:30:55   \n",
       "4           6  5  id0801584          2  2016-01-30 22:01:40   \n",
       "\n",
       "      dropoff_datetime  passenger_count  pickup_longitude  pickup_latitude  \\\n",
       "0  2016-03-14 17:32:30                1        -73.982155        40.767937   \n",
       "1  2016-06-12 00:54:38                1        -73.980415        40.738564   \n",
       "2  2016-04-06 19:39:40                1        -74.010040        40.719971   \n",
       "3  2016-03-26 13:38:10                1        -73.973053        40.793209   \n",
       "4  2016-01-30 22:09:03                6        -73.982857        40.742195   \n",
       "\n",
       "   dropoff_longitude  dropoff_latitude store_and_fwd_flag  trip_duration  \\\n",
       "0         -73.964630         40.765602                  N            455   \n",
       "1         -73.999481         40.731152                  N            663   \n",
       "2         -74.012268         40.706718                  N            429   \n",
       "3         -73.972923         40.782520                  N            435   \n",
       "4         -73.992081         40.749184                  N            443   \n",
       "\n",
       "   distance_km  speed_km_sec        day    month  hour  \\\n",
       "0     1.500199      0.003297     Monday    March    17   \n",
       "1     1.807530      0.002726     Sunday     June     0   \n",
       "2     1.487163      0.003467  Wednesday    April    19   \n",
       "3     1.189920      0.002735   Saturday    March    13   \n",
       "4     1.100174      0.002483   Saturday  January    22   \n",
       "\n",
       "                                      geometry  kmeans_cluster  \n",
       "0   POINT (-73.98215484619141 40.767936706543)               1  \n",
       "1  POINT (-73.9804153442383 40.73856353759771)               1  \n",
       "2    POINT (-74.0100402832031 40.719970703125)               0  \n",
       "3   POINT (-73.9730529785156 40.7932090759277)               3  \n",
       "4   POINT (-73.9828567504883 40.7421951293945)               1  "
      ]
     },
     "execution_count": 168,
     "metadata": {},
     "output_type": "execute_result"
    }
   ],
   "source": [
    "#the cluster assigned is added as an additional feature in the dataset\n",
    "#we are seeing that most points belong to the first two clusters.\n",
    "df.head()"
   ]
  },
  {
   "cell_type": "code",
   "execution_count": 169,
   "metadata": {},
   "outputs": [
    {
     "data": {
      "text/plain": [
       "(12, 3)"
      ]
     },
     "execution_count": 169,
     "metadata": {},
     "output_type": "execute_result"
    }
   ],
   "source": [
    "dfn.shape"
   ]
  },
  {
   "cell_type": "code",
   "execution_count": 170,
   "metadata": {},
   "outputs": [],
   "source": [
    "# this function calculates the coordinate distance between two points\n",
    "# using it to assign neighborhoods based on smallest distance to coordinate centers.\n",
    "def coordinate_distance(x1, y1, dist):\n",
    "    dist = dfn.apply(lambda x: ((((x['longitude'] - x1)**2) + ((x['latitude']-y1)**2) )**0.5), axis=1)\n",
    "    return dfn.iloc[np.argmin(dist)]['neighborhood']            "
   ]
  },
  {
   "cell_type": "code",
   "execution_count": 171,
   "metadata": {},
   "outputs": [
    {
     "name": "stdout",
     "output_type": "stream",
     "text": [
      "Washington Heights\n"
     ]
    }
   ],
   "source": [
    "print(coordinate_distance(-73.939355, 40.841708, 10000))"
   ]
  },
  {
   "cell_type": "code",
   "execution_count": 172,
   "metadata": {},
   "outputs": [],
   "source": [
    "df['neighborhood'] = df.apply(lambda x: coordinate_distance(x['pickup_longitude'], x['pickup_latitude'], 10000), axis =1)"
   ]
  },
  {
   "cell_type": "code",
   "execution_count": 173,
   "metadata": {},
   "outputs": [
    {
     "data": {
      "text/plain": [
       "'/Users/Monika/Desktop/Machine_Learning/nyc_taxi'"
      ]
     },
     "execution_count": 173,
     "metadata": {},
     "output_type": "execute_result"
    }
   ],
   "source": [
    "pwd"
   ]
  },
  {
   "cell_type": "code",
   "execution_count": 174,
   "metadata": {},
   "outputs": [
    {
     "data": {
      "text/html": [
       "<div>\n",
       "<style scoped>\n",
       "    .dataframe tbody tr th:only-of-type {\n",
       "        vertical-align: middle;\n",
       "    }\n",
       "\n",
       "    .dataframe tbody tr th {\n",
       "        vertical-align: top;\n",
       "    }\n",
       "\n",
       "    .dataframe thead th {\n",
       "        text-align: right;\n",
       "    }\n",
       "</style>\n",
       "<table border=\"1\" class=\"dataframe\">\n",
       "  <thead>\n",
       "    <tr style=\"text-align: right;\">\n",
       "      <th></th>\n",
       "      <th>Unnamed: 0</th>\n",
       "      <th>X</th>\n",
       "      <th>id</th>\n",
       "      <th>vendor_id</th>\n",
       "      <th>pickup_datetime</th>\n",
       "      <th>dropoff_datetime</th>\n",
       "      <th>passenger_count</th>\n",
       "      <th>pickup_longitude</th>\n",
       "      <th>pickup_latitude</th>\n",
       "      <th>dropoff_longitude</th>\n",
       "      <th>...</th>\n",
       "      <th>store_and_fwd_flag</th>\n",
       "      <th>trip_duration</th>\n",
       "      <th>distance_km</th>\n",
       "      <th>speed_km_sec</th>\n",
       "      <th>day</th>\n",
       "      <th>month</th>\n",
       "      <th>hour</th>\n",
       "      <th>geometry</th>\n",
       "      <th>kmeans_cluster</th>\n",
       "      <th>neighborhood</th>\n",
       "    </tr>\n",
       "  </thead>\n",
       "  <tbody>\n",
       "    <tr>\n",
       "      <th>0</th>\n",
       "      <td>1</td>\n",
       "      <td>0</td>\n",
       "      <td>id2875421</td>\n",
       "      <td>2</td>\n",
       "      <td>2016-03-14 17:24:55</td>\n",
       "      <td>2016-03-14 17:32:30</td>\n",
       "      <td>1</td>\n",
       "      <td>-73.982155</td>\n",
       "      <td>40.767937</td>\n",
       "      <td>-73.964630</td>\n",
       "      <td>...</td>\n",
       "      <td>N</td>\n",
       "      <td>455</td>\n",
       "      <td>1.500199</td>\n",
       "      <td>0.003297</td>\n",
       "      <td>Monday</td>\n",
       "      <td>March</td>\n",
       "      <td>17</td>\n",
       "      <td>POINT (-73.98215484619141 40.767936706543)</td>\n",
       "      <td>1</td>\n",
       "      <td>Lower Manhattan</td>\n",
       "    </tr>\n",
       "    <tr>\n",
       "      <th>1</th>\n",
       "      <td>2</td>\n",
       "      <td>1</td>\n",
       "      <td>id2377394</td>\n",
       "      <td>1</td>\n",
       "      <td>2016-06-12 00:43:35</td>\n",
       "      <td>2016-06-12 00:54:38</td>\n",
       "      <td>1</td>\n",
       "      <td>-73.980415</td>\n",
       "      <td>40.738564</td>\n",
       "      <td>-73.999481</td>\n",
       "      <td>...</td>\n",
       "      <td>N</td>\n",
       "      <td>663</td>\n",
       "      <td>1.807530</td>\n",
       "      <td>0.002726</td>\n",
       "      <td>Sunday</td>\n",
       "      <td>June</td>\n",
       "      <td>0</td>\n",
       "      <td>POINT (-73.9804153442383 40.73856353759771)</td>\n",
       "      <td>1</td>\n",
       "      <td>Lower Manhattan</td>\n",
       "    </tr>\n",
       "    <tr>\n",
       "      <th>2</th>\n",
       "      <td>4</td>\n",
       "      <td>3</td>\n",
       "      <td>id3504673</td>\n",
       "      <td>2</td>\n",
       "      <td>2016-04-06 19:32:31</td>\n",
       "      <td>2016-04-06 19:39:40</td>\n",
       "      <td>1</td>\n",
       "      <td>-74.010040</td>\n",
       "      <td>40.719971</td>\n",
       "      <td>-74.012268</td>\n",
       "      <td>...</td>\n",
       "      <td>N</td>\n",
       "      <td>429</td>\n",
       "      <td>1.487163</td>\n",
       "      <td>0.003467</td>\n",
       "      <td>Wednesday</td>\n",
       "      <td>April</td>\n",
       "      <td>19</td>\n",
       "      <td>POINT (-74.0100402832031 40.719970703125)</td>\n",
       "      <td>0</td>\n",
       "      <td>Lower Manhattan</td>\n",
       "    </tr>\n",
       "    <tr>\n",
       "      <th>3</th>\n",
       "      <td>5</td>\n",
       "      <td>4</td>\n",
       "      <td>id2181028</td>\n",
       "      <td>2</td>\n",
       "      <td>2016-03-26 13:30:55</td>\n",
       "      <td>2016-03-26 13:38:10</td>\n",
       "      <td>1</td>\n",
       "      <td>-73.973053</td>\n",
       "      <td>40.793209</td>\n",
       "      <td>-73.972923</td>\n",
       "      <td>...</td>\n",
       "      <td>N</td>\n",
       "      <td>435</td>\n",
       "      <td>1.189920</td>\n",
       "      <td>0.002735</td>\n",
       "      <td>Saturday</td>\n",
       "      <td>March</td>\n",
       "      <td>13</td>\n",
       "      <td>POINT (-73.9730529785156 40.7932090759277)</td>\n",
       "      <td>3</td>\n",
       "      <td>Harlem</td>\n",
       "    </tr>\n",
       "    <tr>\n",
       "      <th>4</th>\n",
       "      <td>6</td>\n",
       "      <td>5</td>\n",
       "      <td>id0801584</td>\n",
       "      <td>2</td>\n",
       "      <td>2016-01-30 22:01:40</td>\n",
       "      <td>2016-01-30 22:09:03</td>\n",
       "      <td>6</td>\n",
       "      <td>-73.982857</td>\n",
       "      <td>40.742195</td>\n",
       "      <td>-73.992081</td>\n",
       "      <td>...</td>\n",
       "      <td>N</td>\n",
       "      <td>443</td>\n",
       "      <td>1.100174</td>\n",
       "      <td>0.002483</td>\n",
       "      <td>Saturday</td>\n",
       "      <td>January</td>\n",
       "      <td>22</td>\n",
       "      <td>POINT (-73.9828567504883 40.7421951293945)</td>\n",
       "      <td>1</td>\n",
       "      <td>Lower Manhattan</td>\n",
       "    </tr>\n",
       "  </tbody>\n",
       "</table>\n",
       "<p>5 rows × 21 columns</p>\n",
       "</div>"
      ],
      "text/plain": [
       "   Unnamed: 0  X         id  vendor_id      pickup_datetime  \\\n",
       "0           1  0  id2875421          2  2016-03-14 17:24:55   \n",
       "1           2  1  id2377394          1  2016-06-12 00:43:35   \n",
       "2           4  3  id3504673          2  2016-04-06 19:32:31   \n",
       "3           5  4  id2181028          2  2016-03-26 13:30:55   \n",
       "4           6  5  id0801584          2  2016-01-30 22:01:40   \n",
       "\n",
       "      dropoff_datetime  passenger_count  pickup_longitude  pickup_latitude  \\\n",
       "0  2016-03-14 17:32:30                1        -73.982155        40.767937   \n",
       "1  2016-06-12 00:54:38                1        -73.980415        40.738564   \n",
       "2  2016-04-06 19:39:40                1        -74.010040        40.719971   \n",
       "3  2016-03-26 13:38:10                1        -73.973053        40.793209   \n",
       "4  2016-01-30 22:09:03                6        -73.982857        40.742195   \n",
       "\n",
       "   dropoff_longitude  ...  store_and_fwd_flag trip_duration  distance_km  \\\n",
       "0         -73.964630  ...                   N           455     1.500199   \n",
       "1         -73.999481  ...                   N           663     1.807530   \n",
       "2         -74.012268  ...                   N           429     1.487163   \n",
       "3         -73.972923  ...                   N           435     1.189920   \n",
       "4         -73.992081  ...                   N           443     1.100174   \n",
       "\n",
       "   speed_km_sec        day    month hour  \\\n",
       "0      0.003297     Monday    March   17   \n",
       "1      0.002726     Sunday     June    0   \n",
       "2      0.003467  Wednesday    April   19   \n",
       "3      0.002735   Saturday    March   13   \n",
       "4      0.002483   Saturday  January   22   \n",
       "\n",
       "                                      geometry kmeans_cluster     neighborhood  \n",
       "0   POINT (-73.98215484619141 40.767936706543)              1  Lower Manhattan  \n",
       "1  POINT (-73.9804153442383 40.73856353759771)              1  Lower Manhattan  \n",
       "2    POINT (-74.0100402832031 40.719970703125)              0  Lower Manhattan  \n",
       "3   POINT (-73.9730529785156 40.7932090759277)              3           Harlem  \n",
       "4   POINT (-73.9828567504883 40.7421951293945)              1  Lower Manhattan  \n",
       "\n",
       "[5 rows x 21 columns]"
      ]
     },
     "execution_count": 174,
     "metadata": {},
     "output_type": "execute_result"
    }
   ],
   "source": [
    "#final dataset includes kmeans cluster and neighborhood columns \n",
    "df.head()"
   ]
  },
  {
   "cell_type": "code",
   "execution_count": 175,
   "metadata": {},
   "outputs": [],
   "source": [
    "df.to_csv(\"data/train_4.csv\")"
   ]
  }
 ],
 "metadata": {
  "kernelspec": {
   "display_name": "Python 3",
   "language": "python",
   "name": "python3"
  },
  "language_info": {
   "codemirror_mode": {
    "name": "ipython",
    "version": 3
   },
   "file_extension": ".py",
   "mimetype": "text/x-python",
   "name": "python",
   "nbconvert_exporter": "python",
   "pygments_lexer": "ipython3",
   "version": "3.7.4"
  }
 },
 "nbformat": 4,
 "nbformat_minor": 2
}
