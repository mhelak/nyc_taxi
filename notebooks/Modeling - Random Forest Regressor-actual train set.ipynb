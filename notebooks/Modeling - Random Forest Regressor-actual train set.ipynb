{
 "cells": [
  {
   "cell_type": "markdown",
   "metadata": {},
   "source": [
    "## Modeling - Random Forest Regressor"
   ]
  },
  {
   "cell_type": "markdown",
   "metadata": {},
   "source": [
    "The goal of this notebook is to try out the Random Forest Regressor to see if it can be a valuable predictor of taxi trip duration based on the features that we engineered."
   ]
  },
  {
   "cell_type": "code",
   "execution_count": 1,
   "metadata": {},
   "outputs": [],
   "source": [
    "import pandas as pd \n",
    "import numpy as np\n",
    "from sklearn.metrics import r2_score"
   ]
  },
  {
   "cell_type": "code",
   "execution_count": 2,
   "metadata": {},
   "outputs": [
    {
     "name": "stdout",
     "output_type": "stream",
     "text": [
      "/Users/Monika/Desktop/Machine_Learning/nyc_taxi\n"
     ]
    }
   ],
   "source": [
    "cd .."
   ]
  },
  {
   "cell_type": "code",
   "execution_count": 3,
   "metadata": {},
   "outputs": [],
   "source": [
    "df = pd.read_csv('data/22NOVtrain.csv')"
   ]
  },
  {
   "cell_type": "code",
   "execution_count": 4,
   "metadata": {},
   "outputs": [],
   "source": [
    "df_test = pd.read_csv('data/test_NOV23_final.csv')"
   ]
  },
  {
   "cell_type": "code",
   "execution_count": 59,
   "metadata": {},
   "outputs": [
    {
     "name": "stdout",
     "output_type": "stream",
     "text": [
      "(1087451, 33)\n",
      "(625134, 21)\n"
     ]
    }
   ],
   "source": [
    "print(df.shape)\n",
    "print(df_test.shape)"
   ]
  },
  {
   "cell_type": "code",
   "execution_count": 6,
   "metadata": {},
   "outputs": [
    {
     "data": {
      "text/plain": [
       "Index(['Unnamed: 0', 'X', 'id', 'vendor_id', 'pickup_datetime',\n",
       "       'dropoff_datetime', 'passenger_count', 'pickup_longitude',\n",
       "       'pickup_latitude', 'dropoff_longitude', 'dropoff_latitude',\n",
       "       'store_and_fwd_flag', 'trip_duration', 'distance_km', 'speed_km_sec',\n",
       "       'day', 'month', 'hour', 'geometry', 'pickup_date', 'pickup_hour',\n",
       "       'dropoff_date', 'dropoff_hour', 'pickup_dayofmonth',\n",
       "       'pickup_dateinnumbers', 'pickup_monthinnumbers', 'average_temperature',\n",
       "       'precipitation', 'snowfall', 'snowdepth', 'kmeanscluster',\n",
       "       'neighborhood', 'cat_day'],\n",
       "      dtype='object')"
      ]
     },
     "execution_count": 6,
     "metadata": {},
     "output_type": "execute_result"
    }
   ],
   "source": [
    "df.columns"
   ]
  },
  {
   "cell_type": "code",
   "execution_count": 7,
   "metadata": {},
   "outputs": [
    {
     "data": {
      "text/plain": [
       "Index(['X', 'id', 'vendor_id', 'pickup_datetime', 'passenger_count',\n",
       "       'pickup_longitude', 'pickup_latitude', 'dropoff_longitude',\n",
       "       'dropoff_latitude', 'store_and_fwd_flag', 'day_of_month', 'month',\n",
       "       'neighborhood', 'kmeanscluster', 'average_temperature', 'precipitation',\n",
       "       'snowfall', 'snowdepth', 'distance_km', 'hour', 'cat_day'],\n",
       "      dtype='object')"
      ]
     },
     "execution_count": 7,
     "metadata": {},
     "output_type": "execute_result"
    }
   ],
   "source": [
    "df_test.columns"
   ]
  },
  {
   "cell_type": "code",
   "execution_count": 60,
   "metadata": {},
   "outputs": [
    {
     "data": {
      "text/plain": [
       "<AxesSubplot:>"
      ]
     },
     "execution_count": 60,
     "metadata": {},
     "output_type": "execute_result"
    },
    {
     "data": {
      "image/png": "[encoded data removed]",
      "text/plain": [
       "<Figure size 432x288 with 1 Axes>"
      ]
     },
     "metadata": {
      "needs_background": "light"
     },
     "output_type": "display_data"
    }
   ],
   "source": [
    "df['neighborhood'].value_counts().sort_index().plot(kind = 'bar')"
   ]
  },
  {
   "cell_type": "code",
   "execution_count": 6,
   "metadata": {},
   "outputs": [
    {
     "data": {
      "text/plain": [
       "Index(['X', 'id', 'vendor_id', 'pickup_datetime', 'passenger_count',\n",
       "       'pickup_longitude', 'pickup_latitude', 'dropoff_longitude',\n",
       "       'dropoff_latitude', 'store_and_fwd_flag', 'day_of_month', 'month',\n",
       "       'neighborhood', 'kmeanscluster', 'average_temperature', 'precipitation',\n",
       "       'snowfall', 'snowdepth', 'distance_km', 'hour', 'cat_day'],\n",
       "      dtype='object')"
      ]
     },
     "execution_count": 6,
     "metadata": {},
     "output_type": "execute_result"
    }
   ],
   "source": [
    "df_test.columns"
   ]
  },
  {
   "cell_type": "code",
   "execution_count": 6,
   "metadata": {},
   "outputs": [],
   "source": [
    "df = df.drop(['Unnamed: 0', 'X', 'speed_km_sec'], axis =1 )"
   ]
  },
  {
   "cell_type": "code",
   "execution_count": 7,
   "metadata": {},
   "outputs": [],
   "source": [
    "df_test = df_test.drop(['X'], axis =1)"
   ]
  },
  {
   "cell_type": "code",
   "execution_count": 10,
   "metadata": {},
   "outputs": [
    {
     "data": {
      "text/plain": [
       "Index(['id', 'vendor_id', 'pickup_datetime', 'passenger_count',\n",
       "       'pickup_longitude', 'pickup_latitude', 'dropoff_longitude',\n",
       "       'dropoff_latitude', 'store_and_fwd_flag', 'day_of_month', 'month',\n",
       "       'neighborhood', 'kmeanscluster', 'average_temperature', 'precipitation',\n",
       "       'snowfall', 'snowdepth', 'distance_km', 'hour', 'cat_day'],\n",
       "      dtype='object')"
      ]
     },
     "execution_count": 10,
     "metadata": {},
     "output_type": "execute_result"
    }
   ],
   "source": [
    "df_test.columns"
   ]
  },
  {
   "cell_type": "code",
   "execution_count": 8,
   "metadata": {},
   "outputs": [],
   "source": [
    "#excluding pickup and dropoff date as that doesn't seem to be relevant, also excluding passenger count\n",
    "dfu = df[['distance_km', 'average_temperature', 'precipitation', 'snowfall',\n",
    "         'snowdepth', 'neighborhood', 'cat_day',  'trip_duration']]"
   ]
  },
  {
   "cell_type": "code",
   "execution_count": 9,
   "metadata": {},
   "outputs": [],
   "source": [
    "dfu_test = df_test[['distance_km', 'average_temperature', 'precipitation', 'snowfall',\n",
    "                  'snowdepth', 'neighborhood', 'cat_day']]"
   ]
  },
  {
   "cell_type": "code",
   "execution_count": 13,
   "metadata": {
    "scrolled": true
   },
   "outputs": [
    {
     "name": "stdout",
     "output_type": "stream",
     "text": [
      "<class 'pandas.core.frame.DataFrame'>\n",
      "RangeIndex: 1087451 entries, 0 to 1087450\n",
      "Data columns (total 8 columns):\n",
      " #   Column               Non-Null Count    Dtype  \n",
      "---  ------               --------------    -----  \n",
      " 0   distance_km          1087451 non-null  float64\n",
      " 1   average_temperature  1087451 non-null  float64\n",
      " 2   precipitation        1087451 non-null  float64\n",
      " 3   snowfall             1087451 non-null  float64\n",
      " 4   snowdepth            1087451 non-null  int64  \n",
      " 5   neighborhood         1087451 non-null  object \n",
      " 6   cat_day              1087451 non-null  object \n",
      " 7   trip_duration        1087451 non-null  int64  \n",
      "dtypes: float64(4), int64(2), object(2)\n",
      "memory usage: 66.4+ MB\n"
     ]
    }
   ],
   "source": [
    "dfu.info()"
   ]
  },
  {
   "cell_type": "code",
   "execution_count": 14,
   "metadata": {},
   "outputs": [
    {
     "data": {
      "text/plain": [
       "Index(['distance_km', 'average_temperature', 'precipitation', 'snowfall',\n",
       "       'snowdepth', 'neighborhood', 'cat_day', 'trip_duration'],\n",
       "      dtype='object')"
      ]
     },
     "execution_count": 14,
     "metadata": {},
     "output_type": "execute_result"
    }
   ],
   "source": [
    "dfu.columns"
   ]
  },
  {
   "cell_type": "code",
   "execution_count": 15,
   "metadata": {},
   "outputs": [
    {
     "name": "stdout",
     "output_type": "stream",
     "text": [
      "<class 'pandas.core.frame.DataFrame'>\n",
      "RangeIndex: 625134 entries, 0 to 625133\n",
      "Data columns (total 7 columns):\n",
      " #   Column               Non-Null Count   Dtype  \n",
      "---  ------               --------------   -----  \n",
      " 0   distance_km          625134 non-null  float64\n",
      " 1   average_temperature  625134 non-null  float64\n",
      " 2   precipitation        625134 non-null  float64\n",
      " 3   snowfall             625134 non-null  float64\n",
      " 4   snowdepth            625134 non-null  int64  \n",
      " 5   neighborhood         625134 non-null  object \n",
      " 6   cat_day              625134 non-null  object \n",
      "dtypes: float64(4), int64(1), object(2)\n",
      "memory usage: 33.4+ MB\n"
     ]
    }
   ],
   "source": [
    "#engineer dummy variables for the categorical variables\n",
    "#categorical features list\n",
    "#\n",
    "dfu_test.info()"
   ]
  },
  {
   "cell_type": "code",
   "execution_count": 10,
   "metadata": {},
   "outputs": [],
   "source": [
    "dfu = pd.get_dummies(dfu, columns=['neighborhood', 'cat_day'])\n",
    "#dfu = dfu.drop(['hour', 'kmeanscluster', 'neighborhood'], axis=1)\n",
    "#dfa = pd.concat([dfu, dfd], axis=1)"
   ]
  },
  {
   "cell_type": "code",
   "execution_count": 17,
   "metadata": {},
   "outputs": [
    {
     "data": {
      "text/html": [
       "<div>\n",
       "<style scoped>\n",
       "    .dataframe tbody tr th:only-of-type {\n",
       "        vertical-align: middle;\n",
       "    }\n",
       "\n",
       "    .dataframe tbody tr th {\n",
       "        vertical-align: top;\n",
       "    }\n",
       "\n",
       "    .dataframe thead th {\n",
       "        text-align: right;\n",
       "    }\n",
       "</style>\n",
       "<table border=\"1\" class=\"dataframe\">\n",
       "  <thead>\n",
       "    <tr style=\"text-align: right;\">\n",
       "      <th></th>\n",
       "      <th>distance_km</th>\n",
       "      <th>average_temperature</th>\n",
       "      <th>precipitation</th>\n",
       "      <th>snowfall</th>\n",
       "      <th>snowdepth</th>\n",
       "      <th>trip_duration</th>\n",
       "      <th>neighborhood_Brooklyn</th>\n",
       "      <th>neighborhood_Harlem</th>\n",
       "      <th>neighborhood_Hempstead</th>\n",
       "      <th>neighborhood_Lower Manhattan</th>\n",
       "      <th>neighborhood_Midtown Manhattan</th>\n",
       "      <th>neighborhood_Washington Heights</th>\n",
       "      <th>cat_day_I</th>\n",
       "      <th>cat_day_II</th>\n",
       "      <th>cat_day_III</th>\n",
       "    </tr>\n",
       "  </thead>\n",
       "  <tbody>\n",
       "    <tr>\n",
       "      <th>0</th>\n",
       "      <td>1.500199</td>\n",
       "      <td>45.5</td>\n",
       "      <td>0.29</td>\n",
       "      <td>0.0</td>\n",
       "      <td>0</td>\n",
       "      <td>455</td>\n",
       "      <td>0</td>\n",
       "      <td>0</td>\n",
       "      <td>0</td>\n",
       "      <td>1</td>\n",
       "      <td>0</td>\n",
       "      <td>0</td>\n",
       "      <td>0</td>\n",
       "      <td>1</td>\n",
       "      <td>0</td>\n",
       "    </tr>\n",
       "    <tr>\n",
       "      <th>1</th>\n",
       "      <td>1.807530</td>\n",
       "      <td>72.5</td>\n",
       "      <td>0.00</td>\n",
       "      <td>0.0</td>\n",
       "      <td>0</td>\n",
       "      <td>663</td>\n",
       "      <td>0</td>\n",
       "      <td>0</td>\n",
       "      <td>0</td>\n",
       "      <td>1</td>\n",
       "      <td>0</td>\n",
       "      <td>0</td>\n",
       "      <td>0</td>\n",
       "      <td>0</td>\n",
       "      <td>1</td>\n",
       "    </tr>\n",
       "    <tr>\n",
       "      <th>2</th>\n",
       "      <td>1.487163</td>\n",
       "      <td>39.0</td>\n",
       "      <td>0.00</td>\n",
       "      <td>0.0</td>\n",
       "      <td>0</td>\n",
       "      <td>429</td>\n",
       "      <td>0</td>\n",
       "      <td>0</td>\n",
       "      <td>0</td>\n",
       "      <td>1</td>\n",
       "      <td>0</td>\n",
       "      <td>0</td>\n",
       "      <td>0</td>\n",
       "      <td>1</td>\n",
       "      <td>0</td>\n",
       "    </tr>\n",
       "    <tr>\n",
       "      <th>3</th>\n",
       "      <td>1.189920</td>\n",
       "      <td>46.5</td>\n",
       "      <td>0.00</td>\n",
       "      <td>0.0</td>\n",
       "      <td>0</td>\n",
       "      <td>435</td>\n",
       "      <td>0</td>\n",
       "      <td>1</td>\n",
       "      <td>0</td>\n",
       "      <td>0</td>\n",
       "      <td>0</td>\n",
       "      <td>0</td>\n",
       "      <td>0</td>\n",
       "      <td>1</td>\n",
       "      <td>0</td>\n",
       "    </tr>\n",
       "    <tr>\n",
       "      <th>4</th>\n",
       "      <td>1.100174</td>\n",
       "      <td>33.5</td>\n",
       "      <td>0.00</td>\n",
       "      <td>0.0</td>\n",
       "      <td>6</td>\n",
       "      <td>443</td>\n",
       "      <td>0</td>\n",
       "      <td>0</td>\n",
       "      <td>0</td>\n",
       "      <td>1</td>\n",
       "      <td>0</td>\n",
       "      <td>0</td>\n",
       "      <td>0</td>\n",
       "      <td>0</td>\n",
       "      <td>1</td>\n",
       "    </tr>\n",
       "  </tbody>\n",
       "</table>\n",
       "</div>"
      ],
      "text/plain": [
       "   distance_km  average_temperature  precipitation  snowfall  snowdepth  \\\n",
       "0     1.500199                 45.5           0.29       0.0          0   \n",
       "1     1.807530                 72.5           0.00       0.0          0   \n",
       "2     1.487163                 39.0           0.00       0.0          0   \n",
       "3     1.189920                 46.5           0.00       0.0          0   \n",
       "4     1.100174                 33.5           0.00       0.0          6   \n",
       "\n",
       "   trip_duration  neighborhood_Brooklyn  neighborhood_Harlem  \\\n",
       "0            455                      0                    0   \n",
       "1            663                      0                    0   \n",
       "2            429                      0                    0   \n",
       "3            435                      0                    1   \n",
       "4            443                      0                    0   \n",
       "\n",
       "   neighborhood_Hempstead  neighborhood_Lower Manhattan  \\\n",
       "0                       0                             1   \n",
       "1                       0                             1   \n",
       "2                       0                             1   \n",
       "3                       0                             0   \n",
       "4                       0                             1   \n",
       "\n",
       "   neighborhood_Midtown Manhattan  neighborhood_Washington Heights  cat_day_I  \\\n",
       "0                               0                                0          0   \n",
       "1                               0                                0          0   \n",
       "2                               0                                0          0   \n",
       "3                               0                                0          0   \n",
       "4                               0                                0          0   \n",
       "\n",
       "   cat_day_II  cat_day_III  \n",
       "0           1            0  \n",
       "1           0            1  \n",
       "2           1            0  \n",
       "3           1            0  \n",
       "4           0            1  "
      ]
     },
     "execution_count": 17,
     "metadata": {},
     "output_type": "execute_result"
    }
   ],
   "source": [
    "dfu.head()"
   ]
  },
  {
   "cell_type": "code",
   "execution_count": 12,
   "metadata": {},
   "outputs": [],
   "source": [
    "dfd = dfu"
   ]
  },
  {
   "cell_type": "code",
   "execution_count": 13,
   "metadata": {},
   "outputs": [],
   "source": [
    "#hot fix for snowfall, precipitation, snowdepth\n",
    "#we assumed that trace precipitation, snowdepth and snowfall was equivalent to 0\n",
    "#dfd.loc[df['precipitation'] == 'T'] = 0.00\n",
    "#dfd.loc[df['snowfall'] == 'T'] = 0.00\n",
    "#dfd.loc[df['snowdepth'] == 'T'] = 0.00"
   ]
  },
  {
   "cell_type": "code",
   "execution_count": 14,
   "metadata": {},
   "outputs": [
    {
     "data": {
      "text/plain": [
       "array([0.16, 0.47, 0.  , 0.05, 0.02, 1.65, 0.06, 0.04, 0.01, 0.12, 1.8 ,\n",
       "       0.18, 0.09, 0.03, 0.24, 1.01, 0.45, 0.25, 0.22, 0.73, 0.14, 0.54,\n",
       "       0.61, 0.11, 0.44, 0.53, 0.07, 0.3 , 1.22, 0.2 , 0.38, 0.91, 0.4 ,\n",
       "       0.29, 2.31])"
      ]
     },
     "execution_count": 14,
     "metadata": {},
     "output_type": "execute_result"
    }
   ],
   "source": [
    "dfd['precipitation'].unique()"
   ]
  },
  {
   "cell_type": "code",
   "execution_count": 15,
   "metadata": {},
   "outputs": [
    {
     "name": "stdout",
     "output_type": "stream",
     "text": [
      "<class 'pandas.core.frame.DataFrame'>\n",
      "Int64Index: 543726 entries, 128037 to 534809\n",
      "Data columns (total 15 columns):\n",
      " #   Column                           Non-Null Count   Dtype  \n",
      "---  ------                           --------------   -----  \n",
      " 0   distance_km                      543726 non-null  float64\n",
      " 1   average_temperature              543726 non-null  float64\n",
      " 2   precipitation                    543726 non-null  float64\n",
      " 3   snowfall                         543726 non-null  float64\n",
      " 4   snowdepth                        543726 non-null  int64  \n",
      " 5   trip_duration                    543726 non-null  int64  \n",
      " 6   neighborhood_Brooklyn            543726 non-null  uint8  \n",
      " 7   neighborhood_Harlem              543726 non-null  uint8  \n",
      " 8   neighborhood_Hempstead           543726 non-null  uint8  \n",
      " 9   neighborhood_Lower Manhattan     543726 non-null  uint8  \n",
      " 10  neighborhood_Midtown Manhattan   543726 non-null  uint8  \n",
      " 11  neighborhood_Washington Heights  543726 non-null  uint8  \n",
      " 12  cat_day_I                        543726 non-null  uint8  \n",
      " 13  cat_day_II                       543726 non-null  uint8  \n",
      " 14  cat_day_III                      543726 non-null  uint8  \n",
      "dtypes: float64(4), int64(2), uint8(9)\n",
      "memory usage: 33.7 MB\n"
     ]
    }
   ],
   "source": [
    "dfd.info()"
   ]
  },
  {
   "cell_type": "code",
   "execution_count": 13,
   "metadata": {},
   "outputs": [],
   "source": [
    "dfd[['precipitation', 'snowfall', 'snowdepth']] = dfd[['precipitation', 'snowfall', 'snowdepth']].apply(pd.to_numeric)"
   ]
  },
  {
   "cell_type": "code",
   "execution_count": 17,
   "metadata": {},
   "outputs": [
    {
     "name": "stdout",
     "output_type": "stream",
     "text": [
      "<class 'pandas.core.frame.DataFrame'>\n",
      "Int64Index: 543726 entries, 128037 to 534809\n",
      "Data columns (total 15 columns):\n",
      " #   Column                           Non-Null Count   Dtype  \n",
      "---  ------                           --------------   -----  \n",
      " 0   distance_km                      543726 non-null  float64\n",
      " 1   average_temperature              543726 non-null  float64\n",
      " 2   precipitation                    543726 non-null  float64\n",
      " 3   snowfall                         543726 non-null  float64\n",
      " 4   snowdepth                        543726 non-null  int64  \n",
      " 5   trip_duration                    543726 non-null  int64  \n",
      " 6   neighborhood_Brooklyn            543726 non-null  uint8  \n",
      " 7   neighborhood_Harlem              543726 non-null  uint8  \n",
      " 8   neighborhood_Hempstead           543726 non-null  uint8  \n",
      " 9   neighborhood_Lower Manhattan     543726 non-null  uint8  \n",
      " 10  neighborhood_Midtown Manhattan   543726 non-null  uint8  \n",
      " 11  neighborhood_Washington Heights  543726 non-null  uint8  \n",
      " 12  cat_day_I                        543726 non-null  uint8  \n",
      " 13  cat_day_II                       543726 non-null  uint8  \n",
      " 14  cat_day_III                      543726 non-null  uint8  \n",
      "dtypes: float64(4), int64(2), uint8(9)\n",
      "memory usage: 33.7 MB\n"
     ]
    }
   ],
   "source": [
    "dfd.info()"
   ]
  },
  {
   "cell_type": "code",
   "execution_count": 18,
   "metadata": {},
   "outputs": [],
   "source": [
    "#dfa['snowfall'].info()"
   ]
  },
  {
   "cell_type": "code",
   "execution_count": 19,
   "metadata": {},
   "outputs": [],
   "source": [
    "#now that we have converted all of the categorical columns to dummy variables, we can move on with modeling"
   ]
  },
  {
   "cell_type": "code",
   "execution_count": 20,
   "metadata": {},
   "outputs": [],
   "source": [
    "#load the test data\n"
   ]
  },
  {
   "cell_type": "code",
   "execution_count": 21,
   "metadata": {},
   "outputs": [],
   "source": [
    "#df_test = pd.read_csv('data/test.csv')"
   ]
  },
  {
   "cell_type": "code",
   "execution_count": 57,
   "metadata": {},
   "outputs": [],
   "source": [
    "#need to engineer the same exact steps for the test data ??\n",
    "#df_test.head()"
   ]
  },
  {
   "cell_type": "markdown",
   "metadata": {},
   "source": [
    "## Modeling - Random Forest excluding neighborhoods"
   ]
  },
  {
   "cell_type": "code",
   "execution_count": 29,
   "metadata": {},
   "outputs": [
    {
     "data": {
      "text/plain": [
       "Index(['distance_km', 'average_temperature', 'precipitation', 'snowfall',\n",
       "       'snowdepth', 'trip_duration', 'neighborhood_Brooklyn',\n",
       "       'neighborhood_Harlem', 'neighborhood_Hempstead',\n",
       "       'neighborhood_Lower Manhattan', 'neighborhood_Midtown Manhattan',\n",
       "       'neighborhood_Washington Heights', 'cat_day_I', 'cat_day_II',\n",
       "       'cat_day_III'],\n",
       "      dtype='object')"
      ]
     },
     "execution_count": 29,
     "metadata": {},
     "output_type": "execute_result"
    }
   ],
   "source": [
    "dfd.columns"
   ]
  },
  {
   "cell_type": "code",
   "execution_count": 30,
   "metadata": {},
   "outputs": [],
   "source": [
    "#dfd_nnn = dfd[['distance_km', 'average_temperature', 'precipitation', 'snowfall', 'snowdepth', 'trip_duration']]"
   ]
  },
  {
   "cell_type": "code",
   "execution_count": 14,
   "metadata": {},
   "outputs": [],
   "source": [
    "# Scaling \n",
    "\n",
    "#dfd_nn = dfd.drop(['neighborhood_Brooklyn', 'neighborhood_Harlem', 'neighborhood_Hempstead', 'neighborhood_Lower Manhattan',\n",
    "#                  'neighborhood_Midtown Manhattan', 'neighborhood_Washington Heights'], axis =1 )\n",
    "\n",
    "from sklearn.model_selection import train_test_split\n",
    "\n",
    "#Split into x and y \n",
    "X = np.array(dfu.drop(['trip_duration'], axis =1))\n",
    "y = np.array(dfu[['trip_duration']])\n",
    "\n",
    "#X_test = np.array(dfu_test.)\n",
    "\n",
    "\n",
    "X_train, X_test, y_train, y_test = train_test_split(X, y, test_size=0.25, random_state = 123)"
   ]
  },
  {
   "cell_type": "code",
   "execution_count": 26,
   "metadata": {},
   "outputs": [
    {
     "name": "stdout",
     "output_type": "stream",
     "text": [
      "(815588, 1)\n",
      "(271863, 1)\n"
     ]
    }
   ],
   "source": [
    "print(y_train.shape)\n",
    "print(y_test.shape)"
   ]
  },
  {
   "cell_type": "code",
   "execution_count": 27,
   "metadata": {},
   "outputs": [
    {
     "data": {
      "text/html": [
       "<div>\n",
       "<style scoped>\n",
       "    .dataframe tbody tr th:only-of-type {\n",
       "        vertical-align: middle;\n",
       "    }\n",
       "\n",
       "    .dataframe tbody tr th {\n",
       "        vertical-align: top;\n",
       "    }\n",
       "\n",
       "    .dataframe thead th {\n",
       "        text-align: right;\n",
       "    }\n",
       "</style>\n",
       "<table border=\"1\" class=\"dataframe\">\n",
       "  <thead>\n",
       "    <tr style=\"text-align: right;\">\n",
       "      <th></th>\n",
       "      <th>distance_km</th>\n",
       "      <th>average_temperature</th>\n",
       "      <th>precipitation</th>\n",
       "      <th>snowfall</th>\n",
       "      <th>snowdepth</th>\n",
       "      <th>trip_duration</th>\n",
       "      <th>neighborhood_Brooklyn</th>\n",
       "      <th>neighborhood_Harlem</th>\n",
       "      <th>neighborhood_Hempstead</th>\n",
       "      <th>neighborhood_Lower Manhattan</th>\n",
       "      <th>neighborhood_Midtown Manhattan</th>\n",
       "      <th>neighborhood_Washington Heights</th>\n",
       "      <th>cat_day_I</th>\n",
       "      <th>cat_day_II</th>\n",
       "      <th>cat_day_III</th>\n",
       "    </tr>\n",
       "  </thead>\n",
       "  <tbody>\n",
       "    <tr>\n",
       "      <th>0</th>\n",
       "      <td>1.500199</td>\n",
       "      <td>45.5</td>\n",
       "      <td>0.29</td>\n",
       "      <td>0.0</td>\n",
       "      <td>0</td>\n",
       "      <td>455</td>\n",
       "      <td>0</td>\n",
       "      <td>0</td>\n",
       "      <td>0</td>\n",
       "      <td>1</td>\n",
       "      <td>0</td>\n",
       "      <td>0</td>\n",
       "      <td>0</td>\n",
       "      <td>1</td>\n",
       "      <td>0</td>\n",
       "    </tr>\n",
       "    <tr>\n",
       "      <th>1</th>\n",
       "      <td>1.807530</td>\n",
       "      <td>72.5</td>\n",
       "      <td>0.00</td>\n",
       "      <td>0.0</td>\n",
       "      <td>0</td>\n",
       "      <td>663</td>\n",
       "      <td>0</td>\n",
       "      <td>0</td>\n",
       "      <td>0</td>\n",
       "      <td>1</td>\n",
       "      <td>0</td>\n",
       "      <td>0</td>\n",
       "      <td>0</td>\n",
       "      <td>0</td>\n",
       "      <td>1</td>\n",
       "    </tr>\n",
       "    <tr>\n",
       "      <th>2</th>\n",
       "      <td>1.487163</td>\n",
       "      <td>39.0</td>\n",
       "      <td>0.00</td>\n",
       "      <td>0.0</td>\n",
       "      <td>0</td>\n",
       "      <td>429</td>\n",
       "      <td>0</td>\n",
       "      <td>0</td>\n",
       "      <td>0</td>\n",
       "      <td>1</td>\n",
       "      <td>0</td>\n",
       "      <td>0</td>\n",
       "      <td>0</td>\n",
       "      <td>1</td>\n",
       "      <td>0</td>\n",
       "    </tr>\n",
       "    <tr>\n",
       "      <th>3</th>\n",
       "      <td>1.189920</td>\n",
       "      <td>46.5</td>\n",
       "      <td>0.00</td>\n",
       "      <td>0.0</td>\n",
       "      <td>0</td>\n",
       "      <td>435</td>\n",
       "      <td>0</td>\n",
       "      <td>1</td>\n",
       "      <td>0</td>\n",
       "      <td>0</td>\n",
       "      <td>0</td>\n",
       "      <td>0</td>\n",
       "      <td>0</td>\n",
       "      <td>1</td>\n",
       "      <td>0</td>\n",
       "    </tr>\n",
       "    <tr>\n",
       "      <th>4</th>\n",
       "      <td>1.100174</td>\n",
       "      <td>33.5</td>\n",
       "      <td>0.00</td>\n",
       "      <td>0.0</td>\n",
       "      <td>6</td>\n",
       "      <td>443</td>\n",
       "      <td>0</td>\n",
       "      <td>0</td>\n",
       "      <td>0</td>\n",
       "      <td>1</td>\n",
       "      <td>0</td>\n",
       "      <td>0</td>\n",
       "      <td>0</td>\n",
       "      <td>0</td>\n",
       "      <td>1</td>\n",
       "    </tr>\n",
       "  </tbody>\n",
       "</table>\n",
       "</div>"
      ],
      "text/plain": [
       "   distance_km  average_temperature  precipitation  snowfall  snowdepth  \\\n",
       "0     1.500199                 45.5           0.29       0.0          0   \n",
       "1     1.807530                 72.5           0.00       0.0          0   \n",
       "2     1.487163                 39.0           0.00       0.0          0   \n",
       "3     1.189920                 46.5           0.00       0.0          0   \n",
       "4     1.100174                 33.5           0.00       0.0          6   \n",
       "\n",
       "   trip_duration  neighborhood_Brooklyn  neighborhood_Harlem  \\\n",
       "0            455                      0                    0   \n",
       "1            663                      0                    0   \n",
       "2            429                      0                    0   \n",
       "3            435                      0                    1   \n",
       "4            443                      0                    0   \n",
       "\n",
       "   neighborhood_Hempstead  neighborhood_Lower Manhattan  \\\n",
       "0                       0                             1   \n",
       "1                       0                             1   \n",
       "2                       0                             1   \n",
       "3                       0                             0   \n",
       "4                       0                             1   \n",
       "\n",
       "   neighborhood_Midtown Manhattan  neighborhood_Washington Heights  cat_day_I  \\\n",
       "0                               0                                0          0   \n",
       "1                               0                                0          0   \n",
       "2                               0                                0          0   \n",
       "3                               0                                0          0   \n",
       "4                               0                                0          0   \n",
       "\n",
       "   cat_day_II  cat_day_III  \n",
       "0           1            0  \n",
       "1           0            1  \n",
       "2           1            0  \n",
       "3           1            0  \n",
       "4           0            1  "
      ]
     },
     "execution_count": 27,
     "metadata": {},
     "output_type": "execute_result"
    }
   ],
   "source": [
    "dfd.head()"
   ]
  },
  {
   "cell_type": "code",
   "execution_count": 28,
   "metadata": {},
   "outputs": [
    {
     "ename": "AttributeError",
     "evalue": "'numpy.ndarray' object has no attribute 'corr'",
     "output_type": "error",
     "traceback": [
      "\u001b[0;31m---------------------------------------------------------------------------\u001b[0m",
      "\u001b[0;31mAttributeError\u001b[0m                            Traceback (most recent call last)",
      "\u001b[0;32m<ipython-input-28-d6fde8c4e9c6>\u001b[0m in \u001b[0;36m<module>\u001b[0;34m\u001b[0m\n\u001b[0;32m----> 1\u001b[0;31m \u001b[0mcorr\u001b[0m \u001b[0;34m=\u001b[0m \u001b[0mX\u001b[0m\u001b[0;34m.\u001b[0m\u001b[0mcorr\u001b[0m\u001b[0;34m(\u001b[0m\u001b[0;34m)\u001b[0m\u001b[0;34m\u001b[0m\u001b[0;34m\u001b[0m\u001b[0m\n\u001b[0m\u001b[1;32m      2\u001b[0m \u001b[0;34m\u001b[0m\u001b[0m\n\u001b[1;32m      3\u001b[0m \u001b[0mcorr\u001b[0m\u001b[0;34m.\u001b[0m\u001b[0mstyle\u001b[0m\u001b[0;34m.\u001b[0m\u001b[0mbackground_gradient\u001b[0m\u001b[0;34m(\u001b[0m\u001b[0mcmap\u001b[0m\u001b[0;34m=\u001b[0m\u001b[0;34m'coolwarm'\u001b[0m\u001b[0;34m)\u001b[0m\u001b[0;34m\u001b[0m\u001b[0;34m\u001b[0m\u001b[0m\n",
      "\u001b[0;31mAttributeError\u001b[0m: 'numpy.ndarray' object has no attribute 'corr'"
     ]
    }
   ],
   "source": [
    "corr = X.corr()\n",
    "\n",
    "corr.style.background_gradient(cmap='coolwarm')"
   ]
  },
  {
   "cell_type": "code",
   "execution_count": null,
   "metadata": {},
   "outputs": [],
   "source": [
    "#matrix = np.corrcoef(X)\n",
    "#matrix"
   ]
  },
  {
   "cell_type": "code",
   "execution_count": 50,
   "metadata": {},
   "outputs": [
    {
     "data": {
      "text/html": [
       "<style type=\"text/css\">\n",
       "#T_b9ed3_row0_col0, #T_b9ed3_row1_col1, #T_b9ed3_row2_col2, #T_b9ed3_row3_col3, #T_b9ed3_row4_col4, #T_b9ed3_row5_col5 {\n",
       "  background-color: #b40426;\n",
       "  color: #f1f1f1;\n",
       "}\n",
       "#T_b9ed3_row0_col1 {\n",
       "  background-color: #c1d4f4;\n",
       "  color: #000000;\n",
       "}\n",
       "#T_b9ed3_row0_col2 {\n",
       "  background-color: #506bda;\n",
       "  color: #f1f1f1;\n",
       "}\n",
       "#T_b9ed3_row0_col3 {\n",
       "  background-color: #4961d2;\n",
       "  color: #f1f1f1;\n",
       "}\n",
       "#T_b9ed3_row0_col4 {\n",
       "  background-color: #4c66d6;\n",
       "  color: #f1f1f1;\n",
       "}\n",
       "#T_b9ed3_row0_col5 {\n",
       "  background-color: #f7a98b;\n",
       "  color: #000000;\n",
       "}\n",
       "#T_b9ed3_row1_col0 {\n",
       "  background-color: #b6cefa;\n",
       "  color: #000000;\n",
       "}\n",
       "#T_b9ed3_row1_col2 {\n",
       "  background-color: #6282ea;\n",
       "  color: #f1f1f1;\n",
       "}\n",
       "#T_b9ed3_row1_col3, #T_b9ed3_row1_col4, #T_b9ed3_row3_col0, #T_b9ed3_row3_col5, #T_b9ed3_row4_col1, #T_b9ed3_row4_col2 {\n",
       "  background-color: #3b4cc0;\n",
       "  color: #f1f1f1;\n",
       "}\n",
       "#T_b9ed3_row1_col5 {\n",
       "  background-color: #e0dbd8;\n",
       "  color: #000000;\n",
       "}\n",
       "#T_b9ed3_row2_col0, #T_b9ed3_row5_col3 {\n",
       "  background-color: #4b64d5;\n",
       "  color: #f1f1f1;\n",
       "}\n",
       "#T_b9ed3_row2_col1 {\n",
       "  background-color: #6c8ff1;\n",
       "  color: #f1f1f1;\n",
       "}\n",
       "#T_b9ed3_row2_col3 {\n",
       "  background-color: #b5cdfa;\n",
       "  color: #000000;\n",
       "}\n",
       "#T_b9ed3_row2_col4, #T_b9ed3_row4_col5 {\n",
       "  background-color: #455cce;\n",
       "  color: #f1f1f1;\n",
       "}\n",
       "#T_b9ed3_row2_col5 {\n",
       "  background-color: #4e68d8;\n",
       "  color: #f1f1f1;\n",
       "}\n",
       "#T_b9ed3_row3_col1 {\n",
       "  background-color: #3c4ec2;\n",
       "  color: #f1f1f1;\n",
       "}\n",
       "#T_b9ed3_row3_col2 {\n",
       "  background-color: #adc9fd;\n",
       "  color: #000000;\n",
       "}\n",
       "#T_b9ed3_row3_col4 {\n",
       "  background-color: #6b8df0;\n",
       "  color: #f1f1f1;\n",
       "}\n",
       "#T_b9ed3_row4_col0 {\n",
       "  background-color: #3d50c3;\n",
       "  color: #f1f1f1;\n",
       "}\n",
       "#T_b9ed3_row4_col3 {\n",
       "  background-color: #6a8bef;\n",
       "  color: #f1f1f1;\n",
       "}\n",
       "#T_b9ed3_row5_col0 {\n",
       "  background-color: #f7a889;\n",
       "  color: #000000;\n",
       "}\n",
       "#T_b9ed3_row5_col1 {\n",
       "  background-color: #e7d7ce;\n",
       "  color: #000000;\n",
       "}\n",
       "#T_b9ed3_row5_col2 {\n",
       "  background-color: #5470de;\n",
       "  color: #f1f1f1;\n",
       "}\n",
       "#T_b9ed3_row5_col4 {\n",
       "  background-color: #5673e0;\n",
       "  color: #f1f1f1;\n",
       "}\n",
       "</style>\n",
       "<table id=\"T_b9ed3_\">\n",
       "  <thead>\n",
       "    <tr>\n",
       "      <th class=\"blank level0\" >&nbsp;</th>\n",
       "      <th class=\"col_heading level0 col0\" >distance_km</th>\n",
       "      <th class=\"col_heading level0 col1\" >average_temperature</th>\n",
       "      <th class=\"col_heading level0 col2\" >precipitation</th>\n",
       "      <th class=\"col_heading level0 col3\" >snowfall</th>\n",
       "      <th class=\"col_heading level0 col4\" >snowdepth</th>\n",
       "      <th class=\"col_heading level0 col5\" >trip_duration</th>\n",
       "    </tr>\n",
       "  </thead>\n",
       "  <tbody>\n",
       "    <tr>\n",
       "      <th id=\"T_b9ed3_level0_row0\" class=\"row_heading level0 row0\" >distance_km</th>\n",
       "      <td id=\"T_b9ed3_row0_col0\" class=\"data row0 col0\" >1.000000</td>\n",
       "      <td id=\"T_b9ed3_row0_col1\" class=\"data row0 col1\" >0.377886</td>\n",
       "      <td id=\"T_b9ed3_row0_col2\" class=\"data row0 col2\" >0.067231</td>\n",
       "      <td id=\"T_b9ed3_row0_col3\" class=\"data row0 col3\" >0.011214</td>\n",
       "      <td id=\"T_b9ed3_row0_col4\" class=\"data row0 col4\" >0.019520</td>\n",
       "      <td id=\"T_b9ed3_row0_col5\" class=\"data row0 col5\" >0.714446</td>\n",
       "    </tr>\n",
       "    <tr>\n",
       "      <th id=\"T_b9ed3_level0_row1\" class=\"row_heading level0 row1\" >average_temperature</th>\n",
       "      <td id=\"T_b9ed3_row1_col0\" class=\"data row1 col0\" >0.377886</td>\n",
       "      <td id=\"T_b9ed3_row1_col1\" class=\"data row1 col1\" >1.000000</td>\n",
       "      <td id=\"T_b9ed3_row1_col2\" class=\"data row1 col2\" >0.120551</td>\n",
       "      <td id=\"T_b9ed3_row1_col3\" class=\"data row1 col3\" >-0.041233</td>\n",
       "      <td id=\"T_b9ed3_row1_col4\" class=\"data row1 col4\" >-0.045450</td>\n",
       "      <td id=\"T_b9ed3_row1_col5\" class=\"data row1 col5\" >0.520726</td>\n",
       "    </tr>\n",
       "    <tr>\n",
       "      <th id=\"T_b9ed3_level0_row2\" class=\"row_heading level0 row2\" >precipitation</th>\n",
       "      <td id=\"T_b9ed3_row2_col0\" class=\"data row2 col0\" >0.067231</td>\n",
       "      <td id=\"T_b9ed3_row2_col1\" class=\"data row2 col1\" >0.120551</td>\n",
       "      <td id=\"T_b9ed3_row2_col2\" class=\"data row2 col2\" >1.000000</td>\n",
       "      <td id=\"T_b9ed3_row2_col3\" class=\"data row2 col3\" >0.337620</td>\n",
       "      <td id=\"T_b9ed3_row2_col4\" class=\"data row2 col4\" >-0.005369</td>\n",
       "      <td id=\"T_b9ed3_row2_col5\" class=\"data row2 col5\" >0.078703</td>\n",
       "    </tr>\n",
       "    <tr>\n",
       "      <th id=\"T_b9ed3_level0_row3\" class=\"row_heading level0 row3\" >snowfall</th>\n",
       "      <td id=\"T_b9ed3_row3_col0\" class=\"data row3 col0\" >0.011214</td>\n",
       "      <td id=\"T_b9ed3_row3_col1\" class=\"data row3 col1\" >-0.041233</td>\n",
       "      <td id=\"T_b9ed3_row3_col2\" class=\"data row3 col2\" >0.337620</td>\n",
       "      <td id=\"T_b9ed3_row3_col3\" class=\"data row3 col3\" >1.000000</td>\n",
       "      <td id=\"T_b9ed3_row3_col4\" class=\"data row3 col4\" >0.116930</td>\n",
       "      <td id=\"T_b9ed3_row3_col5\" class=\"data row3 col5\" >0.016854</td>\n",
       "    </tr>\n",
       "    <tr>\n",
       "      <th id=\"T_b9ed3_level0_row4\" class=\"row_heading level0 row4\" >snowdepth</th>\n",
       "      <td id=\"T_b9ed3_row4_col0\" class=\"data row4 col0\" >0.019520</td>\n",
       "      <td id=\"T_b9ed3_row4_col1\" class=\"data row4 col1\" >-0.045450</td>\n",
       "      <td id=\"T_b9ed3_row4_col2\" class=\"data row4 col2\" >-0.005369</td>\n",
       "      <td id=\"T_b9ed3_row4_col3\" class=\"data row4 col3\" >0.116930</td>\n",
       "      <td id=\"T_b9ed3_row4_col4\" class=\"data row4 col4\" >1.000000</td>\n",
       "      <td id=\"T_b9ed3_row4_col5\" class=\"data row4 col5\" >0.052453</td>\n",
       "    </tr>\n",
       "    <tr>\n",
       "      <th id=\"T_b9ed3_level0_row5\" class=\"row_heading level0 row5\" >trip_duration</th>\n",
       "      <td id=\"T_b9ed3_row5_col0\" class=\"data row5 col0\" >0.714446</td>\n",
       "      <td id=\"T_b9ed3_row5_col1\" class=\"data row5 col1\" >0.520726</td>\n",
       "      <td id=\"T_b9ed3_row5_col2\" class=\"data row5 col2\" >0.078703</td>\n",
       "      <td id=\"T_b9ed3_row5_col3\" class=\"data row5 col3\" >0.016854</td>\n",
       "      <td id=\"T_b9ed3_row5_col4\" class=\"data row5 col4\" >0.052453</td>\n",
       "      <td id=\"T_b9ed3_row5_col5\" class=\"data row5 col5\" >1.000000</td>\n",
       "    </tr>\n",
       "  </tbody>\n",
       "</table>\n"
      ],
      "text/plain": [
       "<pandas.io.formats.style.Styler at 0x128315d90>"
      ]
     },
     "execution_count": 50,
     "metadata": {},
     "output_type": "execute_result"
    }
   ],
   "source": [
    "corr = dfd_nnn.corr()\n",
    "\n",
    "corr.style.background_gradient(cmap='coolwarm')"
   ]
  },
  {
   "cell_type": "code",
   "execution_count": 15,
   "metadata": {},
   "outputs": [],
   "source": [
    "from sklearn.ensemble import RandomForestRegressor\n",
    "#rf = RandomForestRegressor(max_depth = 3 , n_estimators = 3 , random_state = 42)\n",
    "rf = RandomForestRegressor()\n",
    "\n",
    "#rf.fit(X_train_scaled, y_train)"
   ]
  },
  {
   "cell_type": "code",
   "execution_count": 30,
   "metadata": {},
   "outputs": [
    {
     "data": {
      "text/plain": [
       "(815588, 14)"
      ]
     },
     "execution_count": 30,
     "metadata": {},
     "output_type": "execute_result"
    }
   ],
   "source": [
    "X_train.shape"
   ]
  },
  {
   "cell_type": "code",
   "execution_count": 31,
   "metadata": {},
   "outputs": [
    {
     "data": {
      "text/plain": [
       "(271863, 14)"
      ]
     },
     "execution_count": 31,
     "metadata": {},
     "output_type": "execute_result"
    }
   ],
   "source": [
    "X_test.shape"
   ]
  },
  {
   "cell_type": "code",
   "execution_count": 16,
   "metadata": {},
   "outputs": [
    {
     "name": "stderr",
     "output_type": "stream",
     "text": [
      "/opt/anaconda3/lib/python3.7/site-packages/sklearn/ensemble/forest.py:245: FutureWarning: The default value of n_estimators will change from 10 in version 0.20 to 100 in 0.22.\n",
      "  \"10 in version 0.20 to 100 in 0.22.\", FutureWarning)\n",
      "/opt/anaconda3/lib/python3.7/site-packages/ipykernel_launcher.py:1: DataConversionWarning: A column-vector y was passed when a 1d array was expected. Please change the shape of y to (n_samples,), for example using ravel().\n",
      "  \"\"\"Entry point for launching an IPython kernel.\n"
     ]
    },
    {
     "data": {
      "text/plain": [
       "RandomForestRegressor(bootstrap=True, criterion='mse', max_depth=None,\n",
       "                      max_features='auto', max_leaf_nodes=None,\n",
       "                      min_impurity_decrease=0.0, min_impurity_split=None,\n",
       "                      min_samples_leaf=1, min_samples_split=2,\n",
       "                      min_weight_fraction_leaf=0.0, n_estimators=10,\n",
       "                      n_jobs=None, oob_score=False, random_state=None,\n",
       "                      verbose=0, warm_start=False)"
      ]
     },
     "execution_count": 16,
     "metadata": {},
     "output_type": "execute_result"
    }
   ],
   "source": [
    "rf.fit(X_train, y_train)\n",
    "#y_pred = model.predict(X_test_scaled)"
   ]
  },
  {
   "cell_type": "code",
   "execution_count": 76,
   "metadata": {},
   "outputs": [],
   "source": [
    "from sklearn.metrics import r2_score"
   ]
  },
  {
   "cell_type": "code",
   "execution_count": 1,
   "metadata": {},
   "outputs": [],
   "source": [
    "predictions = rf.predict(X_test)\n",
    "\n",
    "errors = abs(predictions - y_test)\n",
    "print('Mean Absolute Error:', round(np.mean(errors), 2))\n",
    "print('Mean Squared Error: ', round(np.mean(np.sqrt(errors))))\n",
    "print('Mean Squared Error: ', round(np.mean(errors**2)))\n",
    "print('R squared: ', round(r2_score(predictions, y_test),2))"
   ]
  },
  {
   "cell_type": "code",
   "execution_count": 20,
   "metadata": {},
   "outputs": [],
   "source": [
    "output_df = pd.DataFrame()\n",
    "\n",
    "\n",
    "output_df['y_test'] = y_test\n",
    "output_df['predictions'] = predictions\n",
    "\n",
    "output_df['Mean Absolute Error: '] = round(np.mean(errors), 2)\n",
    "output_df['Mean Squared Error: '] = round(np.mean(errors**2), 2)\n",
    "output_df['R squared: '] = round(r2_score(predictions, y_test), 2)\n"
   ]
  },
  {
   "cell_type": "code",
   "execution_count": 21,
   "metadata": {},
   "outputs": [
    {
     "data": {
      "text/html": [
       "<div>\n",
       "<style scoped>\n",
       "    .dataframe tbody tr th:only-of-type {\n",
       "        vertical-align: middle;\n",
       "    }\n",
       "\n",
       "    .dataframe tbody tr th {\n",
       "        vertical-align: top;\n",
       "    }\n",
       "\n",
       "    .dataframe thead th {\n",
       "        text-align: right;\n",
       "    }\n",
       "</style>\n",
       "<table border=\"1\" class=\"dataframe\">\n",
       "  <thead>\n",
       "    <tr style=\"text-align: right;\">\n",
       "      <th></th>\n",
       "      <th>predictions</th>\n",
       "      <th>Mean Absolute Error:</th>\n",
       "      <th>Mean Squared Error:</th>\n",
       "      <th>R squared:</th>\n",
       "    </tr>\n",
       "  </thead>\n",
       "  <tbody>\n",
       "    <tr>\n",
       "      <th>0</th>\n",
       "      <td>609.7</td>\n",
       "      <td>269.82</td>\n",
       "      <td>109592.69</td>\n",
       "      <td>0.18</td>\n",
       "    </tr>\n",
       "    <tr>\n",
       "      <th>1</th>\n",
       "      <td>449.9</td>\n",
       "      <td>269.82</td>\n",
       "      <td>109592.69</td>\n",
       "      <td>0.18</td>\n",
       "    </tr>\n",
       "    <tr>\n",
       "      <th>2</th>\n",
       "      <td>490.4</td>\n",
       "      <td>269.82</td>\n",
       "      <td>109592.69</td>\n",
       "      <td>0.18</td>\n",
       "    </tr>\n",
       "    <tr>\n",
       "      <th>3</th>\n",
       "      <td>846.1</td>\n",
       "      <td>269.82</td>\n",
       "      <td>109592.69</td>\n",
       "      <td>0.18</td>\n",
       "    </tr>\n",
       "    <tr>\n",
       "      <th>4</th>\n",
       "      <td>509.6</td>\n",
       "      <td>269.82</td>\n",
       "      <td>109592.69</td>\n",
       "      <td>0.18</td>\n",
       "    </tr>\n",
       "  </tbody>\n",
       "</table>\n",
       "</div>"
      ],
      "text/plain": [
       "   predictions  Mean Absolute Error:   Mean Squared Error:   R squared: \n",
       "0        609.7                 269.82             109592.69         0.18\n",
       "1        449.9                 269.82             109592.69         0.18\n",
       "2        490.4                 269.82             109592.69         0.18\n",
       "3        846.1                 269.82             109592.69         0.18\n",
       "4        509.6                 269.82             109592.69         0.18"
      ]
     },
     "execution_count": 21,
     "metadata": {},
     "output_type": "execute_result"
    }
   ],
   "source": [
    "output_df.head()"
   ]
  },
  {
   "cell_type": "code",
   "execution_count": 19,
   "metadata": {},
   "outputs": [],
   "source": [
    "feature_list = list(dfu.columns)"
   ]
  },
  {
   "cell_type": "code",
   "execution_count": null,
   "metadata": {},
   "outputs": [],
   "source": [
    "# Get numerical feature importances\n",
    "importances = list(rf.feature_importances_)\n",
    "# List of tuples with variable and importance\n",
    "feature_importances = [(feature, round(importance, 2)) for feature, importance in zip(feature_list, importances)]\n",
    "# Sort the feature importances by most important first\n",
    "feature_importances = sorted(feature_importances, key = lambda x: x[1], reverse = True)\n",
    "# Print out the feature and importances \n",
    "[print('Variable: {:10} Importance: {}'.format(*pair)) for pair in feature_importances];"
   ]
  },
  {
   "cell_type": "markdown",
   "metadata": {},
   "source": [
    "# Modeling - Random Forest excluding neighborhoods"
   ]
  },
  {
   "cell_type": "code",
   "execution_count": 2,
   "metadata": {},
   "outputs": [],
   "source": [
    "#getting rid of neighborhoods\n",
    "dfu = dfu.drop(['neighborhood_Harlem', 'neighborhood_Brooklyn', 'neighborhood_Hempstead', 'neighborhood_Lower Manhattan',\n",
    "               'neighborhood_Midtown Manhattan', 'neighborhood_Washington Heights'], axis =1)"
   ]
  },
  {
   "cell_type": "code",
   "execution_count": 91,
   "metadata": {},
   "outputs": [],
   "source": [
    "from sklearn.model_selection import train_test_split\n",
    "\n",
    "#Split into x and y \n",
    "X = np.array(dfu.drop(['trip_duration'], axis =1))\n",
    "y = np.array(dfu[['trip_duration']])\n",
    "\n",
    "X_train, X_test, y_train, y_test = train_test_split(X, y, test_size=0.25, random_state = 123)"
   ]
  },
  {
   "cell_type": "markdown",
   "metadata": {},
   "source": [
    "## Modeling"
   ]
  },
  {
   "cell_type": "markdown",
   "metadata": {},
   "source": [
    "We wanted to continue investigating feature selection methods"
   ]
  },
  {
   "cell_type": "code",
   "execution_count": 92,
   "metadata": {},
   "outputs": [
    {
     "name": "stderr",
     "output_type": "stream",
     "text": [
      "/var/folders/v0/2szl9lcj3rg4kjvn96t45wrm0000gn/T/ipykernel_9476/2665894178.py:4: DataConversionWarning: A column-vector y was passed when a 1d array was expected. Please change the shape of y to (n_samples,), for example using ravel().\n",
      "  rf.fit(X_train, y_train)\n"
     ]
    },
    {
     "data": {
      "text/plain": [
       "RandomForestRegressor(max_depth=8, n_estimators=30, random_state=42)"
      ]
     },
     "execution_count": 92,
     "metadata": {},
     "output_type": "execute_result"
    }
   ],
   "source": [
    "from sklearn.ensemble import RandomForestRegressor\n",
    "rf = RandomForestRegressor(n_estimators = 30, max_depth = 8, random_state = 42)\n",
    "\n",
    "rf.fit(X_train, y_train)"
   ]
  },
  {
   "cell_type": "code",
   "execution_count": 93,
   "metadata": {},
   "outputs": [
    {
     "name": "stderr",
     "output_type": "stream",
     "text": [
      "/var/folders/v0/2szl9lcj3rg4kjvn96t45wrm0000gn/T/ipykernel_9476/2926072320.py:1: DataConversionWarning: A column-vector y was passed when a 1d array was expected. Please change the shape of y to (n_samples,), for example using ravel().\n",
      "  model = rf.fit(X_train, y_train)\n"
     ]
    }
   ],
   "source": [
    "model = rf.fit(X_train, y_train)\n",
    "y_pred = model.predict(X_test)"
   ]
  },
  {
   "cell_type": "code",
   "execution_count": null,
   "metadata": {},
   "outputs": [],
   "source": [
    "predictions = rf.predict(X_test)\n",
    "# Calculate the absolute errors\n",
    "errors = abs(predictions - y_test)\n",
    "# Print out the mean absolute error (mae)\n",
    "print('Mean Absolute Error:', round(np.mean(errors), 2))\n",
    "print('Mean Squared Error: ', round(np.mean(np.sqrt(errors)), 2))\n",
    "print('R squared: ', round(r2_score(y_pred, y_test), 2))"
   ]
  },
  {
   "cell_type": "code",
   "execution_count": null,
   "metadata": {},
   "outputs": [],
   "source": [
    "feature_list = list(dfu.columns)"
   ]
  },
  {
   "cell_type": "code",
   "execution_count": null,
   "metadata": {},
   "outputs": [],
   "source": [
    "# Get numerical feature importances\n",
    "importances = list(rf.feature_importances_)\n",
    "# List of tuples with variable and importance\n",
    "feature_importances = [(feature, round(importance, 2)) for feature, importance in zip(feature_list, importances)]\n",
    "# Sort the feature importances by most important first\n",
    "feature_importances = sorted(feature_importances, key = lambda x: x[1], reverse = True)\n",
    "# Print out the feature and importances \n",
    "[print('Variable: {:10} Importance: {}'.format(*pair)) for pair in feature_importances];"
   ]
  },
  {
   "cell_type": "markdown",
   "metadata": {},
   "source": [
    "## Cross-validation kfold\n"
   ]
  },
  {
   "cell_type": "code",
   "execution_count": 82,
   "metadata": {},
   "outputs": [],
   "source": [
    "param_grid = {\n",
    "    'max_depth': [2,4,8], 'n_estimators': [10, 20, 30]\n",
    "}"
   ]
  },
  {
   "cell_type": "code",
   "execution_count": 83,
   "metadata": {},
   "outputs": [],
   "source": [
    "from sklearn.model_selection import GridSearchCV\n",
    "grid_search = GridSearchCV(estimator = model, param_grid = param_grid, \n",
    "                          cv = 2, n_jobs = -1, verbose = 2)"
   ]
  },
  {
   "cell_type": "code",
   "execution_count": 76,
   "metadata": {},
   "outputs": [
    {
     "name": "stdout",
     "output_type": "stream",
     "text": [
      "Fitting 2 folds for each of 9 candidates, totalling 18 fits\n"
     ]
    },
    {
     "name": "stderr",
     "output_type": "stream",
     "text": [
      "[Parallel(n_jobs=-1)]: Using backend LokyBackend with 4 concurrent workers.\n",
      "[Parallel(n_jobs=-1)]: Done  18 out of  18 | elapsed:   19.4s finished\n",
      "/opt/anaconda3/lib/python3.7/site-packages/sklearn/model_selection/_search.py:715: DataConversionWarning: A column-vector y was passed when a 1d array was expected. Please change the shape of y to (n_samples,), for example using ravel().\n",
      "  self.best_estimator_.fit(X, y, **fit_params)\n"
     ]
    },
    {
     "data": {
      "text/plain": [
       "{'max_depth': 8, 'n_estimators': 30}"
      ]
     },
     "execution_count": 76,
     "metadata": {},
     "output_type": "execute_result"
    }
   ],
   "source": [
    "grid_search.fit(X_train_scaled, y_train)\n",
    "grid_search.best_params_"
   ]
  },
  {
   "cell_type": "markdown",
   "metadata": {},
   "source": [
    "When utilizing grid search, we find that the best parameters for the performance of the random forest model out of the provided options are 8 depth of the tree and 30 trees. We can now re-fit the model with these parameters."
   ]
  }
 ],
 "metadata": {
  "kernelspec": {
   "display_name": "Python 3",
   "language": "python",
   "name": "python3"
  },
  "language_info": {
   "codemirror_mode": {
    "name": "ipython",
    "version": 3
   },
   "file_extension": ".py",
   "mimetype": "text/x-python",
   "name": "python",
   "nbconvert_exporter": "python",
   "pygments_lexer": "ipython3",
   "version": "3.7.4"
  }
 },
 "nbformat": 4,
 "nbformat_minor": 2
}
